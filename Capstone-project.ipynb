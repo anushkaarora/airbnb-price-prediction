{
 "cells": [
  {
   "cell_type": "code",
   "execution_count": 1,
   "id": "74fec2d8",
   "metadata": {},
   "outputs": [
    {
     "name": "stdout",
     "output_type": "stream",
     "text": [
      "Populating the interactive namespace from numpy and matplotlib\n"
     ]
    }
   ],
   "source": [
    "import pandas as pd\n",
    "import numpy as np\n",
    "import warnings\n",
    "warnings.filterwarnings(\"ignore\")\n",
    "#import klib\n",
    "import matplotlib.pyplot as plt\n",
    "import seaborn as sns\n",
    "import plotly.express as px\n",
    "import plotly.figure_factory as ff # it is the module which includes many wrapper functions which are not included in plotly.js \n",
    "%pylab inline\n",
    "from sklearn.metrics import r2_score\n",
    "from statsmodels.stats.outliers_influence import variance_inflation_factor"
   ]
  },
  {
   "cell_type": "code",
   "execution_count": 148,
   "id": "cb243661",
   "metadata": {},
   "outputs": [],
   "source": [
    "from sklearn.linear_model import LinearRegression\n",
    "from sklearn.tree import DecisionTreeRegressor\n",
    "from xgboost import XGBRegressor\n",
    "from sklearn.model_selection import train_test_split ,cross_val_score\n",
    "from sklearn.metrics import mean_squared_error, r2_score\n",
    "from sklearn.ensemble import RandomForestRegressor"
   ]
  },
  {
   "cell_type": "code",
   "execution_count": 3,
   "id": "8ecf64b1",
   "metadata": {},
   "outputs": [],
   "source": [
    "#set option \n",
    "pd.set_option('display.max_rows', 100)   # max row --> will show 100 row , none --< all \n",
    "pd.set_option('display.max_columns', None) # max colum\n",
    "pd.options.display.float_format = '{:.5f}'.format  # to get rid off e to the power value\n",
    "# to reset all \n",
    "#pd.reset_option('all')"
   ]
  },
  {
   "cell_type": "code",
   "execution_count": 4,
   "id": "2eba1bbc",
   "metadata": {},
   "outputs": [],
   "source": [
    "df = pd.read_csv('AirBnB_US_2021.csv')"
   ]
  },
  {
   "cell_type": "code",
   "execution_count": 5,
   "id": "69904d12",
   "metadata": {},
   "outputs": [
    {
     "data": {
      "text/plain": [
       "(201709, 76)"
      ]
     },
     "execution_count": 5,
     "metadata": {},
     "output_type": "execute_result"
    }
   ],
   "source": [
    "df.shape\n",
    "# original shape of the DataFrame "
   ]
  },
  {
   "cell_type": "code",
   "execution_count": 6,
   "id": "d6b912b5",
   "metadata": {},
   "outputs": [],
   "source": [
    "df = df.drop('Unnamed: 0', axis = 1)\n",
    "# drop the column 'Unnamed: 0'"
   ]
  },
  {
   "cell_type": "code",
   "execution_count": 7,
   "id": "dc021487",
   "metadata": {},
   "outputs": [
    {
     "data": {
      "text/plain": [
       "(201709, 75)"
      ]
     },
     "execution_count": 7,
     "metadata": {},
     "output_type": "execute_result"
    }
   ],
   "source": [
    "df.shape "
   ]
  },
  {
   "cell_type": "code",
   "execution_count": 8,
   "id": "89c244d4",
   "metadata": {},
   "outputs": [
    {
     "name": "stdout",
     "output_type": "stream",
     "text": [
      "<class 'pandas.core.frame.DataFrame'>\n",
      "RangeIndex: 201709 entries, 0 to 201708\n",
      "Data columns (total 75 columns):\n",
      " #   Column                                        Non-Null Count   Dtype  \n",
      "---  ------                                        --------------   -----  \n",
      " 0   id                                            201709 non-null  int64  \n",
      " 1   listing_url                                   201709 non-null  object \n",
      " 2   scrape_id                                     201709 non-null  int64  \n",
      " 3   last_scraped                                  201709 non-null  object \n",
      " 4   name                                          201691 non-null  object \n",
      " 5   description                                   197088 non-null  object \n",
      " 6   neighborhood_overview                         130478 non-null  object \n",
      " 7   picture_url                                   201708 non-null  object \n",
      " 8   host_id                                       201709 non-null  int64  \n",
      " 9   host_url                                      201709 non-null  object \n",
      " 10  host_name                                     201392 non-null  object \n",
      " 11  host_since                                    201392 non-null  object \n",
      " 12  host_location                                 201012 non-null  object \n",
      " 13  host_about                                    127738 non-null  object \n",
      " 14  host_response_time                            156994 non-null  object \n",
      " 15  host_response_rate                            156994 non-null  object \n",
      " 16  host_acceptance_rate                          159251 non-null  object \n",
      " 17  host_is_superhost                             201392 non-null  object \n",
      " 18  host_thumbnail_url                            201392 non-null  object \n",
      " 19  host_picture_url                              201392 non-null  object \n",
      " 20  host_neighbourhood                            156744 non-null  object \n",
      " 21  host_listings_count                           201392 non-null  float64\n",
      " 22  host_total_listings_count                     201392 non-null  float64\n",
      " 23  host_verifications                            201709 non-null  object \n",
      " 24  host_has_profile_pic                          201392 non-null  object \n",
      " 25  host_identity_verified                        201392 non-null  object \n",
      " 26  neighbourhood                                 130482 non-null  object \n",
      " 27  neighbourhood_cleansed                        201709 non-null  object \n",
      " 28  neighbourhood_group_cleansed                  98569 non-null   object \n",
      " 29  latitude                                      201709 non-null  float64\n",
      " 30  longitude                                     201709 non-null  float64\n",
      " 31  property_type                                 201709 non-null  object \n",
      " 32  room_type                                     201709 non-null  object \n",
      " 33  accommodates                                  201709 non-null  int64  \n",
      " 34  bathrooms                                     0 non-null       float64\n",
      " 35  bathrooms_text                                201414 non-null  object \n",
      " 36  bedrooms                                      181128 non-null  float64\n",
      " 37  beds                                          198077 non-null  float64\n",
      " 38  amenities                                     201709 non-null  object \n",
      " 39  price                                         201709 non-null  object \n",
      " 40  minimum_nights                                201709 non-null  int64  \n",
      " 41  maximum_nights                                201709 non-null  int64  \n",
      " 42  minimum_minimum_nights                        201683 non-null  float64\n",
      " 43  maximum_minimum_nights                        201683 non-null  float64\n",
      " 44  minimum_maximum_nights                        201683 non-null  float64\n",
      " 45  maximum_maximum_nights                        201683 non-null  float64\n",
      " 46  minimum_nights_avg_ntm                        201683 non-null  float64\n",
      " 47  maximum_nights_avg_ntm                        201683 non-null  float64\n",
      " 48  calendar_updated                              0 non-null       float64\n",
      " 49  has_availability                              201709 non-null  object \n",
      " 50  availability_30                               201709 non-null  int64  \n",
      " 51  availability_60                               201709 non-null  int64  \n",
      " 52  availability_90                               201709 non-null  int64  \n",
      " 53  availability_365                              201709 non-null  int64  \n",
      " 54  calendar_last_scraped                         201709 non-null  object \n",
      " 55  number_of_reviews                             201709 non-null  int64  \n",
      " 56  number_of_reviews_ltm                         201709 non-null  int64  \n",
      " 57  number_of_reviews_l30d                        201709 non-null  int64  \n",
      " 58  first_review                                  158233 non-null  object \n",
      " 59  last_review                                   158233 non-null  object \n",
      " 60  review_scores_rating                          158233 non-null  float64\n",
      " 61  review_scores_accuracy                        156580 non-null  float64\n",
      " 62  review_scores_cleanliness                     156596 non-null  float64\n",
      " 63  review_scores_checkin                         156548 non-null  float64\n",
      " 64  review_scores_communication                   156582 non-null  float64\n",
      " 65  review_scores_location                        156541 non-null  float64\n",
      " 66  review_scores_value                           156536 non-null  float64\n",
      " 67  license                                       51556 non-null   object \n",
      " 68  instant_bookable                              201709 non-null  object \n",
      " 69  calculated_host_listings_count                201709 non-null  int64  \n",
      " 70  calculated_host_listings_count_entire_homes   201709 non-null  int64  \n",
      " 71  calculated_host_listings_count_private_rooms  201709 non-null  int64  \n",
      " 72  calculated_host_listings_count_shared_rooms   201709 non-null  int64  \n",
      " 73  reviews_per_month                             158233 non-null  float64\n",
      " 74  City                                          201709 non-null  object \n",
      "dtypes: float64(22), int64(17), object(36)\n",
      "memory usage: 115.4+ MB\n"
     ]
    }
   ],
   "source": [
    "df.info()"
   ]
  },
  {
   "cell_type": "code",
   "execution_count": 9,
   "id": "5899ebb6",
   "metadata": {},
   "outputs": [],
   "source": [
    "# there are many null values in the some of the columns \n",
    "# whereas, some of the columns have no null values \n",
    "# Bathrooms, calendar_updated , have 100% null values"
   ]
  },
  {
   "cell_type": "code",
   "execution_count": 10,
   "id": "03d14da7",
   "metadata": {},
   "outputs": [],
   "source": [
    "df_new = df.copy()\n",
    "# making a new DataFrame keeping the original dataset impact "
   ]
  },
  {
   "cell_type": "markdown",
   "id": "7c34da24",
   "metadata": {},
   "source": [
    "# Null Value Treatment "
   ]
  },
  {
   "cell_type": "code",
   "execution_count": 11,
   "id": "e5199a1a",
   "metadata": {},
   "outputs": [
    {
     "data": {
      "text/html": [
       "<div>\n",
       "<style scoped>\n",
       "    .dataframe tbody tr th:only-of-type {\n",
       "        vertical-align: middle;\n",
       "    }\n",
       "\n",
       "    .dataframe tbody tr th {\n",
       "        vertical-align: top;\n",
       "    }\n",
       "\n",
       "    .dataframe thead th {\n",
       "        text-align: right;\n",
       "    }\n",
       "</style>\n",
       "<table border=\"1\" class=\"dataframe\">\n",
       "  <thead>\n",
       "    <tr style=\"text-align: right;\">\n",
       "      <th></th>\n",
       "      <th>count</th>\n",
       "      <th>% age of null value</th>\n",
       "    </tr>\n",
       "  </thead>\n",
       "  <tbody>\n",
       "    <tr>\n",
       "      <th>calendar_updated</th>\n",
       "      <td>201709</td>\n",
       "      <td>100.00000</td>\n",
       "    </tr>\n",
       "    <tr>\n",
       "      <th>bathrooms</th>\n",
       "      <td>201709</td>\n",
       "      <td>100.00000</td>\n",
       "    </tr>\n",
       "    <tr>\n",
       "      <th>license</th>\n",
       "      <td>150153</td>\n",
       "      <td>74.44041</td>\n",
       "    </tr>\n",
       "    <tr>\n",
       "      <th>neighbourhood_group_cleansed</th>\n",
       "      <td>103140</td>\n",
       "      <td>51.13307</td>\n",
       "    </tr>\n",
       "    <tr>\n",
       "      <th>host_about</th>\n",
       "      <td>73971</td>\n",
       "      <td>36.67214</td>\n",
       "    </tr>\n",
       "    <tr>\n",
       "      <th>neighborhood_overview</th>\n",
       "      <td>71231</td>\n",
       "      <td>35.31374</td>\n",
       "    </tr>\n",
       "    <tr>\n",
       "      <th>neighbourhood</th>\n",
       "      <td>71227</td>\n",
       "      <td>35.31176</td>\n",
       "    </tr>\n",
       "    <tr>\n",
       "      <th>review_scores_value</th>\n",
       "      <td>45173</td>\n",
       "      <td>22.39513</td>\n",
       "    </tr>\n",
       "    <tr>\n",
       "      <th>review_scores_location</th>\n",
       "      <td>45168</td>\n",
       "      <td>22.39265</td>\n",
       "    </tr>\n",
       "    <tr>\n",
       "      <th>review_scores_checkin</th>\n",
       "      <td>45161</td>\n",
       "      <td>22.38918</td>\n",
       "    </tr>\n",
       "    <tr>\n",
       "      <th>review_scores_accuracy</th>\n",
       "      <td>45129</td>\n",
       "      <td>22.37332</td>\n",
       "    </tr>\n",
       "    <tr>\n",
       "      <th>review_scores_communication</th>\n",
       "      <td>45127</td>\n",
       "      <td>22.37233</td>\n",
       "    </tr>\n",
       "    <tr>\n",
       "      <th>review_scores_cleanliness</th>\n",
       "      <td>45113</td>\n",
       "      <td>22.36539</td>\n",
       "    </tr>\n",
       "    <tr>\n",
       "      <th>host_neighbourhood</th>\n",
       "      <td>44965</td>\n",
       "      <td>22.29201</td>\n",
       "    </tr>\n",
       "    <tr>\n",
       "      <th>host_response_time</th>\n",
       "      <td>44715</td>\n",
       "      <td>22.16807</td>\n",
       "    </tr>\n",
       "    <tr>\n",
       "      <th>host_response_rate</th>\n",
       "      <td>44715</td>\n",
       "      <td>22.16807</td>\n",
       "    </tr>\n",
       "    <tr>\n",
       "      <th>last_review</th>\n",
       "      <td>43476</td>\n",
       "      <td>21.55382</td>\n",
       "    </tr>\n",
       "    <tr>\n",
       "      <th>review_scores_rating</th>\n",
       "      <td>43476</td>\n",
       "      <td>21.55382</td>\n",
       "    </tr>\n",
       "    <tr>\n",
       "      <th>first_review</th>\n",
       "      <td>43476</td>\n",
       "      <td>21.55382</td>\n",
       "    </tr>\n",
       "    <tr>\n",
       "      <th>reviews_per_month</th>\n",
       "      <td>43476</td>\n",
       "      <td>21.55382</td>\n",
       "    </tr>\n",
       "    <tr>\n",
       "      <th>host_acceptance_rate</th>\n",
       "      <td>42458</td>\n",
       "      <td>21.04914</td>\n",
       "    </tr>\n",
       "    <tr>\n",
       "      <th>bedrooms</th>\n",
       "      <td>20581</td>\n",
       "      <td>10.20331</td>\n",
       "    </tr>\n",
       "    <tr>\n",
       "      <th>description</th>\n",
       "      <td>4621</td>\n",
       "      <td>2.29092</td>\n",
       "    </tr>\n",
       "    <tr>\n",
       "      <th>beds</th>\n",
       "      <td>3632</td>\n",
       "      <td>1.80061</td>\n",
       "    </tr>\n",
       "    <tr>\n",
       "      <th>host_location</th>\n",
       "      <td>697</td>\n",
       "      <td>0.34555</td>\n",
       "    </tr>\n",
       "    <tr>\n",
       "      <th>host_has_profile_pic</th>\n",
       "      <td>317</td>\n",
       "      <td>0.15716</td>\n",
       "    </tr>\n",
       "    <tr>\n",
       "      <th>host_identity_verified</th>\n",
       "      <td>317</td>\n",
       "      <td>0.15716</td>\n",
       "    </tr>\n",
       "    <tr>\n",
       "      <th>host_name</th>\n",
       "      <td>317</td>\n",
       "      <td>0.15716</td>\n",
       "    </tr>\n",
       "    <tr>\n",
       "      <th>host_since</th>\n",
       "      <td>317</td>\n",
       "      <td>0.15716</td>\n",
       "    </tr>\n",
       "    <tr>\n",
       "      <th>host_total_listings_count</th>\n",
       "      <td>317</td>\n",
       "      <td>0.15716</td>\n",
       "    </tr>\n",
       "    <tr>\n",
       "      <th>host_listings_count</th>\n",
       "      <td>317</td>\n",
       "      <td>0.15716</td>\n",
       "    </tr>\n",
       "    <tr>\n",
       "      <th>host_picture_url</th>\n",
       "      <td>317</td>\n",
       "      <td>0.15716</td>\n",
       "    </tr>\n",
       "    <tr>\n",
       "      <th>host_thumbnail_url</th>\n",
       "      <td>317</td>\n",
       "      <td>0.15716</td>\n",
       "    </tr>\n",
       "    <tr>\n",
       "      <th>host_is_superhost</th>\n",
       "      <td>317</td>\n",
       "      <td>0.15716</td>\n",
       "    </tr>\n",
       "    <tr>\n",
       "      <th>bathrooms_text</th>\n",
       "      <td>295</td>\n",
       "      <td>0.14625</td>\n",
       "    </tr>\n",
       "    <tr>\n",
       "      <th>maximum_nights_avg_ntm</th>\n",
       "      <td>26</td>\n",
       "      <td>0.01289</td>\n",
       "    </tr>\n",
       "    <tr>\n",
       "      <th>minimum_minimum_nights</th>\n",
       "      <td>26</td>\n",
       "      <td>0.01289</td>\n",
       "    </tr>\n",
       "    <tr>\n",
       "      <th>maximum_minimum_nights</th>\n",
       "      <td>26</td>\n",
       "      <td>0.01289</td>\n",
       "    </tr>\n",
       "    <tr>\n",
       "      <th>minimum_maximum_nights</th>\n",
       "      <td>26</td>\n",
       "      <td>0.01289</td>\n",
       "    </tr>\n",
       "    <tr>\n",
       "      <th>maximum_maximum_nights</th>\n",
       "      <td>26</td>\n",
       "      <td>0.01289</td>\n",
       "    </tr>\n",
       "    <tr>\n",
       "      <th>minimum_nights_avg_ntm</th>\n",
       "      <td>26</td>\n",
       "      <td>0.01289</td>\n",
       "    </tr>\n",
       "    <tr>\n",
       "      <th>name</th>\n",
       "      <td>18</td>\n",
       "      <td>0.00892</td>\n",
       "    </tr>\n",
       "    <tr>\n",
       "      <th>picture_url</th>\n",
       "      <td>1</td>\n",
       "      <td>0.00050</td>\n",
       "    </tr>\n",
       "    <tr>\n",
       "      <th>number_of_reviews_l30d</th>\n",
       "      <td>0</td>\n",
       "      <td>0.00000</td>\n",
       "    </tr>\n",
       "    <tr>\n",
       "      <th>number_of_reviews_ltm</th>\n",
       "      <td>0</td>\n",
       "      <td>0.00000</td>\n",
       "    </tr>\n",
       "    <tr>\n",
       "      <th>number_of_reviews</th>\n",
       "      <td>0</td>\n",
       "      <td>0.00000</td>\n",
       "    </tr>\n",
       "    <tr>\n",
       "      <th>calculated_host_listings_count_shared_rooms</th>\n",
       "      <td>0</td>\n",
       "      <td>0.00000</td>\n",
       "    </tr>\n",
       "    <tr>\n",
       "      <th>calculated_host_listings_count_entire_homes</th>\n",
       "      <td>0</td>\n",
       "      <td>0.00000</td>\n",
       "    </tr>\n",
       "    <tr>\n",
       "      <th>calculated_host_listings_count_private_rooms</th>\n",
       "      <td>0</td>\n",
       "      <td>0.00000</td>\n",
       "    </tr>\n",
       "    <tr>\n",
       "      <th>calculated_host_listings_count</th>\n",
       "      <td>0</td>\n",
       "      <td>0.00000</td>\n",
       "    </tr>\n",
       "    <tr>\n",
       "      <th>instant_bookable</th>\n",
       "      <td>0</td>\n",
       "      <td>0.00000</td>\n",
       "    </tr>\n",
       "    <tr>\n",
       "      <th>availability_365</th>\n",
       "      <td>0</td>\n",
       "      <td>0.00000</td>\n",
       "    </tr>\n",
       "    <tr>\n",
       "      <th>calendar_last_scraped</th>\n",
       "      <td>0</td>\n",
       "      <td>0.00000</td>\n",
       "    </tr>\n",
       "    <tr>\n",
       "      <th>id</th>\n",
       "      <td>0</td>\n",
       "      <td>0.00000</td>\n",
       "    </tr>\n",
       "    <tr>\n",
       "      <th>availability_90</th>\n",
       "      <td>0</td>\n",
       "      <td>0.00000</td>\n",
       "    </tr>\n",
       "    <tr>\n",
       "      <th>property_type</th>\n",
       "      <td>0</td>\n",
       "      <td>0.00000</td>\n",
       "    </tr>\n",
       "    <tr>\n",
       "      <th>scrape_id</th>\n",
       "      <td>0</td>\n",
       "      <td>0.00000</td>\n",
       "    </tr>\n",
       "    <tr>\n",
       "      <th>last_scraped</th>\n",
       "      <td>0</td>\n",
       "      <td>0.00000</td>\n",
       "    </tr>\n",
       "    <tr>\n",
       "      <th>host_id</th>\n",
       "      <td>0</td>\n",
       "      <td>0.00000</td>\n",
       "    </tr>\n",
       "    <tr>\n",
       "      <th>host_url</th>\n",
       "      <td>0</td>\n",
       "      <td>0.00000</td>\n",
       "    </tr>\n",
       "    <tr>\n",
       "      <th>host_verifications</th>\n",
       "      <td>0</td>\n",
       "      <td>0.00000</td>\n",
       "    </tr>\n",
       "    <tr>\n",
       "      <th>neighbourhood_cleansed</th>\n",
       "      <td>0</td>\n",
       "      <td>0.00000</td>\n",
       "    </tr>\n",
       "    <tr>\n",
       "      <th>latitude</th>\n",
       "      <td>0</td>\n",
       "      <td>0.00000</td>\n",
       "    </tr>\n",
       "    <tr>\n",
       "      <th>longitude</th>\n",
       "      <td>0</td>\n",
       "      <td>0.00000</td>\n",
       "    </tr>\n",
       "    <tr>\n",
       "      <th>room_type</th>\n",
       "      <td>0</td>\n",
       "      <td>0.00000</td>\n",
       "    </tr>\n",
       "    <tr>\n",
       "      <th>availability_60</th>\n",
       "      <td>0</td>\n",
       "      <td>0.00000</td>\n",
       "    </tr>\n",
       "    <tr>\n",
       "      <th>accommodates</th>\n",
       "      <td>0</td>\n",
       "      <td>0.00000</td>\n",
       "    </tr>\n",
       "    <tr>\n",
       "      <th>listing_url</th>\n",
       "      <td>0</td>\n",
       "      <td>0.00000</td>\n",
       "    </tr>\n",
       "    <tr>\n",
       "      <th>amenities</th>\n",
       "      <td>0</td>\n",
       "      <td>0.00000</td>\n",
       "    </tr>\n",
       "    <tr>\n",
       "      <th>price</th>\n",
       "      <td>0</td>\n",
       "      <td>0.00000</td>\n",
       "    </tr>\n",
       "    <tr>\n",
       "      <th>minimum_nights</th>\n",
       "      <td>0</td>\n",
       "      <td>0.00000</td>\n",
       "    </tr>\n",
       "    <tr>\n",
       "      <th>maximum_nights</th>\n",
       "      <td>0</td>\n",
       "      <td>0.00000</td>\n",
       "    </tr>\n",
       "    <tr>\n",
       "      <th>has_availability</th>\n",
       "      <td>0</td>\n",
       "      <td>0.00000</td>\n",
       "    </tr>\n",
       "    <tr>\n",
       "      <th>availability_30</th>\n",
       "      <td>0</td>\n",
       "      <td>0.00000</td>\n",
       "    </tr>\n",
       "    <tr>\n",
       "      <th>City</th>\n",
       "      <td>0</td>\n",
       "      <td>0.00000</td>\n",
       "    </tr>\n",
       "  </tbody>\n",
       "</table>\n",
       "</div>"
      ],
      "text/plain": [
       "                                               count  % age of null value\n",
       "calendar_updated                              201709            100.00000\n",
       "bathrooms                                     201709            100.00000\n",
       "license                                       150153             74.44041\n",
       "neighbourhood_group_cleansed                  103140             51.13307\n",
       "host_about                                     73971             36.67214\n",
       "neighborhood_overview                          71231             35.31374\n",
       "neighbourhood                                  71227             35.31176\n",
       "review_scores_value                            45173             22.39513\n",
       "review_scores_location                         45168             22.39265\n",
       "review_scores_checkin                          45161             22.38918\n",
       "review_scores_accuracy                         45129             22.37332\n",
       "review_scores_communication                    45127             22.37233\n",
       "review_scores_cleanliness                      45113             22.36539\n",
       "host_neighbourhood                             44965             22.29201\n",
       "host_response_time                             44715             22.16807\n",
       "host_response_rate                             44715             22.16807\n",
       "last_review                                    43476             21.55382\n",
       "review_scores_rating                           43476             21.55382\n",
       "first_review                                   43476             21.55382\n",
       "reviews_per_month                              43476             21.55382\n",
       "host_acceptance_rate                           42458             21.04914\n",
       "bedrooms                                       20581             10.20331\n",
       "description                                     4621              2.29092\n",
       "beds                                            3632              1.80061\n",
       "host_location                                    697              0.34555\n",
       "host_has_profile_pic                             317              0.15716\n",
       "host_identity_verified                           317              0.15716\n",
       "host_name                                        317              0.15716\n",
       "host_since                                       317              0.15716\n",
       "host_total_listings_count                        317              0.15716\n",
       "host_listings_count                              317              0.15716\n",
       "host_picture_url                                 317              0.15716\n",
       "host_thumbnail_url                               317              0.15716\n",
       "host_is_superhost                                317              0.15716\n",
       "bathrooms_text                                   295              0.14625\n",
       "maximum_nights_avg_ntm                            26              0.01289\n",
       "minimum_minimum_nights                            26              0.01289\n",
       "maximum_minimum_nights                            26              0.01289\n",
       "minimum_maximum_nights                            26              0.01289\n",
       "maximum_maximum_nights                            26              0.01289\n",
       "minimum_nights_avg_ntm                            26              0.01289\n",
       "name                                              18              0.00892\n",
       "picture_url                                        1              0.00050\n",
       "number_of_reviews_l30d                             0              0.00000\n",
       "number_of_reviews_ltm                              0              0.00000\n",
       "number_of_reviews                                  0              0.00000\n",
       "calculated_host_listings_count_shared_rooms        0              0.00000\n",
       "calculated_host_listings_count_entire_homes        0              0.00000\n",
       "calculated_host_listings_count_private_rooms       0              0.00000\n",
       "calculated_host_listings_count                     0              0.00000\n",
       "instant_bookable                                   0              0.00000\n",
       "availability_365                                   0              0.00000\n",
       "calendar_last_scraped                              0              0.00000\n",
       "id                                                 0              0.00000\n",
       "availability_90                                    0              0.00000\n",
       "property_type                                      0              0.00000\n",
       "scrape_id                                          0              0.00000\n",
       "last_scraped                                       0              0.00000\n",
       "host_id                                            0              0.00000\n",
       "host_url                                           0              0.00000\n",
       "host_verifications                                 0              0.00000\n",
       "neighbourhood_cleansed                             0              0.00000\n",
       "latitude                                           0              0.00000\n",
       "longitude                                          0              0.00000\n",
       "room_type                                          0              0.00000\n",
       "availability_60                                    0              0.00000\n",
       "accommodates                                       0              0.00000\n",
       "listing_url                                        0              0.00000\n",
       "amenities                                          0              0.00000\n",
       "price                                              0              0.00000\n",
       "minimum_nights                                     0              0.00000\n",
       "maximum_nights                                     0              0.00000\n",
       "has_availability                                   0              0.00000\n",
       "availability_30                                    0              0.00000\n",
       "City                                               0              0.00000"
      ]
     },
     "execution_count": 11,
     "metadata": {},
     "output_type": "execute_result"
    }
   ],
   "source": [
    "df_null = pd.DataFrame() # create an empty DataFrame \n",
    "df_null['count'] = df_new.isnull().sum(axis = 0)\n",
    "df_null['% age of null value'] = df_new.isnull().sum(axis = 0)/df_new.shape[0]*100\n",
    "df_null.sort_values(by = 'count' , ascending = False)\n",
    "\n",
    "# step 1: see the null values in the dataframe, column-wise , and remove more than 30% null values. "
   ]
  },
  {
   "cell_type": "code",
   "execution_count": 12,
   "id": "b2e0d7c5",
   "metadata": {},
   "outputs": [],
   "source": [
    "drop_cols = list(df_null[df_null['% age of null value'] > 30].index)\n",
    "# drop all the columns that have more than 30% of the null values. "
   ]
  },
  {
   "cell_type": "code",
   "execution_count": 13,
   "id": "9aac0fee",
   "metadata": {},
   "outputs": [
    {
     "data": {
      "text/plain": [
       "['neighborhood_overview',\n",
       " 'host_about',\n",
       " 'neighbourhood',\n",
       " 'neighbourhood_group_cleansed',\n",
       " 'bathrooms',\n",
       " 'calendar_updated',\n",
       " 'license']"
      ]
     },
     "execution_count": 13,
     "metadata": {},
     "output_type": "execute_result"
    }
   ],
   "source": [
    "drop_cols"
   ]
  },
  {
   "cell_type": "code",
   "execution_count": 14,
   "id": "a1512269",
   "metadata": {},
   "outputs": [
    {
     "data": {
      "text/plain": [
       "7"
      ]
     },
     "execution_count": 14,
     "metadata": {},
     "output_type": "execute_result"
    }
   ],
   "source": [
    "len(drop_cols)\n",
    "# 7 columns have more than 30% null values "
   ]
  },
  {
   "cell_type": "code",
   "execution_count": 15,
   "id": "5894e87d",
   "metadata": {},
   "outputs": [],
   "source": [
    "df_new = df_new.drop(drop_cols, axis = 1)"
   ]
  },
  {
   "cell_type": "code",
   "execution_count": 16,
   "id": "02edcd09",
   "metadata": {},
   "outputs": [
    {
     "data": {
      "text/plain": [
       "(201709, 68)"
      ]
     },
     "execution_count": 16,
     "metadata": {},
     "output_type": "execute_result"
    }
   ],
   "source": [
    "df_new.shape "
   ]
  },
  {
   "cell_type": "markdown",
   "id": "3c2593f6",
   "metadata": {},
   "source": [
    "## DROP ROWS "
   ]
  },
  {
   "cell_type": "code",
   "execution_count": 17,
   "id": "8fe400b5",
   "metadata": {},
   "outputs": [],
   "source": [
    "# df_null_rows is the dataFrame containing the null values in each row"
   ]
  },
  {
   "cell_type": "code",
   "execution_count": 18,
   "id": "6e1813f8",
   "metadata": {},
   "outputs": [
    {
     "data": {
      "text/html": [
       "<div>\n",
       "<style scoped>\n",
       "    .dataframe tbody tr th:only-of-type {\n",
       "        vertical-align: middle;\n",
       "    }\n",
       "\n",
       "    .dataframe tbody tr th {\n",
       "        vertical-align: top;\n",
       "    }\n",
       "\n",
       "    .dataframe thead th {\n",
       "        text-align: right;\n",
       "    }\n",
       "</style>\n",
       "<table border=\"1\" class=\"dataframe\">\n",
       "  <thead>\n",
       "    <tr style=\"text-align: right;\">\n",
       "      <th></th>\n",
       "      <th>count</th>\n",
       "      <th>% age of null value</th>\n",
       "    </tr>\n",
       "  </thead>\n",
       "  <tbody>\n",
       "    <tr>\n",
       "      <th>200357</th>\n",
       "      <td>25</td>\n",
       "      <td>36.76471</td>\n",
       "    </tr>\n",
       "    <tr>\n",
       "      <th>94694</th>\n",
       "      <td>25</td>\n",
       "      <td>36.76471</td>\n",
       "    </tr>\n",
       "    <tr>\n",
       "      <th>200313</th>\n",
       "      <td>25</td>\n",
       "      <td>36.76471</td>\n",
       "    </tr>\n",
       "    <tr>\n",
       "      <th>200312</th>\n",
       "      <td>25</td>\n",
       "      <td>36.76471</td>\n",
       "    </tr>\n",
       "    <tr>\n",
       "      <th>200309</th>\n",
       "      <td>25</td>\n",
       "      <td>36.76471</td>\n",
       "    </tr>\n",
       "    <tr>\n",
       "      <th>...</th>\n",
       "      <td>...</td>\n",
       "      <td>...</td>\n",
       "    </tr>\n",
       "    <tr>\n",
       "      <th>137253</th>\n",
       "      <td>0</td>\n",
       "      <td>0.00000</td>\n",
       "    </tr>\n",
       "    <tr>\n",
       "      <th>10086</th>\n",
       "      <td>0</td>\n",
       "      <td>0.00000</td>\n",
       "    </tr>\n",
       "    <tr>\n",
       "      <th>137251</th>\n",
       "      <td>0</td>\n",
       "      <td>0.00000</td>\n",
       "    </tr>\n",
       "    <tr>\n",
       "      <th>65752</th>\n",
       "      <td>0</td>\n",
       "      <td>0.00000</td>\n",
       "    </tr>\n",
       "    <tr>\n",
       "      <th>23633</th>\n",
       "      <td>0</td>\n",
       "      <td>0.00000</td>\n",
       "    </tr>\n",
       "  </tbody>\n",
       "</table>\n",
       "<p>201709 rows × 2 columns</p>\n",
       "</div>"
      ],
      "text/plain": [
       "        count  % age of null value\n",
       "200357     25             36.76471\n",
       "94694      25             36.76471\n",
       "200313     25             36.76471\n",
       "200312     25             36.76471\n",
       "200309     25             36.76471\n",
       "...       ...                  ...\n",
       "137253      0              0.00000\n",
       "10086       0              0.00000\n",
       "137251      0              0.00000\n",
       "65752       0              0.00000\n",
       "23633       0              0.00000\n",
       "\n",
       "[201709 rows x 2 columns]"
      ]
     },
     "execution_count": 18,
     "metadata": {},
     "output_type": "execute_result"
    }
   ],
   "source": [
    "df_null_rows = pd.DataFrame()\n",
    "df_null_rows['count'] = df_new.isnull().sum(axis =1)\n",
    "df_null_rows['% age of null value'] = df_new.isnull().sum(axis =1)/df_new.shape[1] * 100\n",
    "df_null_rows.sort_values(by = 'count' , ascending = False)"
   ]
  },
  {
   "cell_type": "code",
   "execution_count": 19,
   "id": "9999cfdf",
   "metadata": {},
   "outputs": [],
   "source": [
    "drop_rows = list(df_null_rows[df_null_rows['% age of null value'] > 30].index)"
   ]
  },
  {
   "cell_type": "code",
   "execution_count": 20,
   "id": "ede26881",
   "metadata": {},
   "outputs": [],
   "source": [
    "# drop rows that have 30% null values. "
   ]
  },
  {
   "cell_type": "code",
   "execution_count": 21,
   "id": "059940b8",
   "metadata": {},
   "outputs": [
    {
     "data": {
      "text/plain": [
       "271"
      ]
     },
     "execution_count": 21,
     "metadata": {},
     "output_type": "execute_result"
    }
   ],
   "source": [
    "len(drop_rows)\n",
    "# 271 rows have more than 30% null values."
   ]
  },
  {
   "cell_type": "code",
   "execution_count": 22,
   "id": "9def7371",
   "metadata": {},
   "outputs": [],
   "source": [
    "# drop the rows \n",
    "df_new = df_new.drop(drop_rows, axis = 0)"
   ]
  },
  {
   "cell_type": "code",
   "execution_count": 23,
   "id": "8b8d9050",
   "metadata": {},
   "outputs": [
    {
     "data": {
      "text/plain": [
       "(201438, 68)"
      ]
     },
     "execution_count": 23,
     "metadata": {},
     "output_type": "execute_result"
    }
   ],
   "source": [
    "df_new.shape "
   ]
  },
  {
   "cell_type": "code",
   "execution_count": 24,
   "id": "b431b857",
   "metadata": {},
   "outputs": [
    {
     "data": {
      "text/plain": [
       "['host_id',\n",
       " 'host_since',\n",
       " 'host_location',\n",
       " 'host_response_time',\n",
       " 'host_acceptance_rate',\n",
       " 'host_is_superhost',\n",
       " 'host_listings_count',\n",
       " 'host_total_listings_count',\n",
       " 'host_identity_verified',\n",
       " 'neighbourhood_cleansed',\n",
       " 'latitude',\n",
       " 'longitude',\n",
       " 'room_type',\n",
       " 'accommodates',\n",
       " 'bathrooms_text',\n",
       " 'bedrooms',\n",
       " 'beds',\n",
       " 'amenities',\n",
       " 'price',\n",
       " 'minimum_nights',\n",
       " 'has_availability',\n",
       " 'availability_30',\n",
       " 'availability_60',\n",
       " 'availability_90',\n",
       " 'availability_365',\n",
       " 'number_of_reviews_ltm',\n",
       " 'review_scores_rating',\n",
       " 'review_scores_accuracy',\n",
       " 'review_scores_cleanliness',\n",
       " 'review_scores_checkin',\n",
       " 'review_scores_communication',\n",
       " 'review_scores_location',\n",
       " 'review_scores_value',\n",
       " 'instant_bookable',\n",
       " 'calculated_host_listings_count',\n",
       " 'reviews_per_month',\n",
       " 'City',\n",
       " 'calculated_host_listings_count_private_rooms',\n",
       " 'calculated_host_listings_count_shared_rooms',\n",
       " 'last_scraped',\n",
       " 'calculated_host_listings_count_entire_homes']"
      ]
     },
     "execution_count": 24,
     "metadata": {},
     "output_type": "execute_result"
    }
   ],
   "source": [
    "df_useful_col = pd.read_excel('df_useful_col.xlsx'  , header =None ,names = ['useful_col'])\n",
    "df_useful_col = df_useful_col.useful_col.to_list()\n",
    "df_useful_col"
   ]
  },
  {
   "cell_type": "code",
   "execution_count": 25,
   "id": "b0bbfd5c",
   "metadata": {},
   "outputs": [
    {
     "data": {
      "text/plain": [
       "41"
      ]
     },
     "execution_count": 25,
     "metadata": {},
     "output_type": "execute_result"
    }
   ],
   "source": [
    "len(df_useful_col)\n",
    "# 41 useful columns, we deleted the columns, that could be irrelevant for model building."
   ]
  },
  {
   "cell_type": "code",
   "execution_count": 26,
   "id": "c2301c5d",
   "metadata": {},
   "outputs": [],
   "source": [
    "df_fin = df_new.loc[:,df_useful_col]"
   ]
  },
  {
   "cell_type": "code",
   "execution_count": 27,
   "id": "20eaf455",
   "metadata": {},
   "outputs": [
    {
     "data": {
      "text/plain": [
       "(201438, 41)"
      ]
     },
     "execution_count": 27,
     "metadata": {},
     "output_type": "execute_result"
    }
   ],
   "source": [
    "df_fin.shape"
   ]
  },
  {
   "cell_type": "code",
   "execution_count": 28,
   "id": "7bb2cc87",
   "metadata": {},
   "outputs": [],
   "source": [
    "df_new = df_fin.copy(deep = True)"
   ]
  },
  {
   "cell_type": "code",
   "execution_count": 29,
   "id": "93881cee",
   "metadata": {},
   "outputs": [
    {
     "data": {
      "text/plain": [
       "(201438, 41)"
      ]
     },
     "execution_count": 29,
     "metadata": {},
     "output_type": "execute_result"
    }
   ],
   "source": [
    "df_new.shape"
   ]
  },
  {
   "cell_type": "code",
   "execution_count": 30,
   "id": "b786d38d",
   "metadata": {},
   "outputs": [],
   "source": [
    "# making price column numerical\n",
    "df_new['price']=df_new['price'].str.replace('$','')\n",
    "df_new['price']=df_new['price'].str.replace(',','')"
   ]
  },
  {
   "cell_type": "code",
   "execution_count": 31,
   "id": "c3e6e22b",
   "metadata": {},
   "outputs": [],
   "source": [
    "df_new['price']=df_new['price'].astype('float')"
   ]
  },
  {
   "cell_type": "code",
   "execution_count": 32,
   "id": "1af98ac5",
   "metadata": {},
   "outputs": [],
   "source": [
    "def isnull_count(df):\n",
    "    return df.isnull().sum()/len(df)*100"
   ]
  },
  {
   "cell_type": "code",
   "execution_count": 33,
   "id": "54b2190a",
   "metadata": {},
   "outputs": [
    {
     "data": {
      "text/plain": [
       "host_since                     0.02532\n",
       "host_location                  0.21396\n",
       "host_response_time            22.06436\n",
       "host_acceptance_rate          20.94441\n",
       "host_is_superhost              0.02532\n",
       "host_listings_count            0.02532\n",
       "host_total_listings_count      0.02532\n",
       "host_identity_verified         0.02532\n",
       "bathrooms_text                 0.14396\n",
       "bedrooms                      10.17286\n",
       "beds                           1.80055\n",
       "review_scores_rating          21.44829\n",
       "review_scores_accuracy        22.26889\n",
       "review_scores_cleanliness     22.26094\n",
       "review_scores_checkin         22.28477\n",
       "review_scores_communication   22.26789\n",
       "review_scores_location        22.28825\n",
       "review_scores_value           22.29073\n",
       "reviews_per_month             21.44829\n",
       "dtype: float64"
      ]
     },
     "execution_count": 33,
     "metadata": {},
     "output_type": "execute_result"
    }
   ],
   "source": [
    "isnull_count(df_new)[isnull_count(df_new)>0]"
   ]
  },
  {
   "cell_type": "code",
   "execution_count": 34,
   "id": "ad33dc33",
   "metadata": {},
   "outputs": [],
   "source": [
    "to_be_imputed = list(isnull_count(df_new)[isnull_count(df_new)>0].index)"
   ]
  },
  {
   "cell_type": "code",
   "execution_count": 35,
   "id": "cc144619",
   "metadata": {},
   "outputs": [
    {
     "data": {
      "text/plain": [
       "['host_since',\n",
       " 'host_location',\n",
       " 'host_response_time',\n",
       " 'host_acceptance_rate',\n",
       " 'host_is_superhost',\n",
       " 'host_listings_count',\n",
       " 'host_total_listings_count',\n",
       " 'host_identity_verified',\n",
       " 'bathrooms_text',\n",
       " 'bedrooms',\n",
       " 'beds',\n",
       " 'review_scores_rating',\n",
       " 'review_scores_accuracy',\n",
       " 'review_scores_cleanliness',\n",
       " 'review_scores_checkin',\n",
       " 'review_scores_communication',\n",
       " 'review_scores_location',\n",
       " 'review_scores_value',\n",
       " 'reviews_per_month']"
      ]
     },
     "execution_count": 35,
     "metadata": {},
     "output_type": "execute_result"
    }
   ],
   "source": [
    "to_be_imputed\n",
    "# 19 columns are to be imputed in the dataset"
   ]
  },
  {
   "cell_type": "markdown",
   "id": "159ea8b8",
   "metadata": {},
   "source": [
    "## Imputing the Numerical Columns "
   ]
  },
  {
   "cell_type": "code",
   "execution_count": 36,
   "id": "cbe94501",
   "metadata": {},
   "outputs": [],
   "source": [
    "df_new['host_since'] = df_new['host_since'].fillna('2016-12-16')\n",
    "# imputed it with the first date "
   ]
  },
  {
   "cell_type": "code",
   "execution_count": 37,
   "id": "09c7ce21",
   "metadata": {},
   "outputs": [],
   "source": [
    "df_new['host_location'] = df_new['host_location'].fillna('New York, New York, United States')\n",
    "# replaced with the location that appeared maximum number of times "
   ]
  },
  {
   "cell_type": "code",
   "execution_count": 38,
   "id": "1d6449e3",
   "metadata": {},
   "outputs": [],
   "source": [
    "df_new['host_is_superhost'] = df_new['host_is_superhost'].fillna('f')\n",
    "# it is also replaced with the mode of host is superhost"
   ]
  },
  {
   "cell_type": "code",
   "execution_count": 39,
   "id": "e8bee321",
   "metadata": {},
   "outputs": [],
   "source": [
    "df_new['host_identity_verified'] = df_new['host_identity_verified'].fillna('t')\n",
    "# it is also replaced with the mode"
   ]
  },
  {
   "cell_type": "code",
   "execution_count": 40,
   "id": "8de0f00f",
   "metadata": {},
   "outputs": [],
   "source": [
    "df_new['bathrooms_text'] = df_new['bathrooms_text'].fillna('1 bath')\n",
    "# it is also replaced with mode"
   ]
  },
  {
   "cell_type": "code",
   "execution_count": 41,
   "id": "cf125e82",
   "metadata": {},
   "outputs": [],
   "source": [
    "df_new['bedrooms'] = df_new['bedrooms'].fillna(1)\n",
    "# bedrooms are also replaced with the mode"
   ]
  },
  {
   "cell_type": "code",
   "execution_count": 42,
   "id": "20b816b9",
   "metadata": {},
   "outputs": [],
   "source": [
    "df_new['beds'] = df_new['beds'].fillna(2)\n",
    "# beds are also replaced with the mode"
   ]
  },
  {
   "cell_type": "code",
   "execution_count": 43,
   "id": "07890054",
   "metadata": {},
   "outputs": [],
   "source": [
    "df_new['host_total_listings_count']= df_new['host_total_listings_count'].fillna(df_new['host_total_listings_count'].median())\n",
    "# host_total_listings count is replaced with the median"
   ]
  },
  {
   "cell_type": "code",
   "execution_count": 44,
   "id": "337e23a3",
   "metadata": {},
   "outputs": [],
   "source": [
    "response_count = pd.crosstab(index= df_new['host_id'],columns = df_new['host_response_time'])\n",
    "# replacing the null values in the host_response count "
   ]
  },
  {
   "cell_type": "code",
   "execution_count": 45,
   "id": "c064351e",
   "metadata": {},
   "outputs": [
    {
     "data": {
      "text/html": [
       "<div>\n",
       "<style scoped>\n",
       "    .dataframe tbody tr th:only-of-type {\n",
       "        vertical-align: middle;\n",
       "    }\n",
       "\n",
       "    .dataframe tbody tr th {\n",
       "        vertical-align: top;\n",
       "    }\n",
       "\n",
       "    .dataframe thead th {\n",
       "        text-align: right;\n",
       "    }\n",
       "</style>\n",
       "<table border=\"1\" class=\"dataframe\">\n",
       "  <thead>\n",
       "    <tr style=\"text-align: right;\">\n",
       "      <th>host_response_time</th>\n",
       "      <th>a few days or more</th>\n",
       "      <th>within a day</th>\n",
       "      <th>within a few hours</th>\n",
       "      <th>within an hour</th>\n",
       "    </tr>\n",
       "    <tr>\n",
       "      <th>host_id</th>\n",
       "      <th></th>\n",
       "      <th></th>\n",
       "      <th></th>\n",
       "      <th></th>\n",
       "    </tr>\n",
       "  </thead>\n",
       "  <tbody>\n",
       "    <tr>\n",
       "      <th>23</th>\n",
       "      <td>0</td>\n",
       "      <td>3</td>\n",
       "      <td>0</td>\n",
       "      <td>0</td>\n",
       "    </tr>\n",
       "    <tr>\n",
       "      <th>615</th>\n",
       "      <td>0</td>\n",
       "      <td>0</td>\n",
       "      <td>0</td>\n",
       "      <td>2</td>\n",
       "    </tr>\n",
       "    <tr>\n",
       "      <th>666</th>\n",
       "      <td>0</td>\n",
       "      <td>0</td>\n",
       "      <td>0</td>\n",
       "      <td>2</td>\n",
       "    </tr>\n",
       "    <tr>\n",
       "      <th>908</th>\n",
       "      <td>0</td>\n",
       "      <td>0</td>\n",
       "      <td>15</td>\n",
       "      <td>0</td>\n",
       "    </tr>\n",
       "    <tr>\n",
       "      <th>933</th>\n",
       "      <td>0</td>\n",
       "      <td>0</td>\n",
       "      <td>2</td>\n",
       "      <td>0</td>\n",
       "    </tr>\n",
       "    <tr>\n",
       "      <th>...</th>\n",
       "      <td>...</td>\n",
       "      <td>...</td>\n",
       "      <td>...</td>\n",
       "      <td>...</td>\n",
       "    </tr>\n",
       "    <tr>\n",
       "      <th>415509559</th>\n",
       "      <td>0</td>\n",
       "      <td>0</td>\n",
       "      <td>3</td>\n",
       "      <td>0</td>\n",
       "    </tr>\n",
       "    <tr>\n",
       "      <th>415516728</th>\n",
       "      <td>0</td>\n",
       "      <td>0</td>\n",
       "      <td>1</td>\n",
       "      <td>0</td>\n",
       "    </tr>\n",
       "    <tr>\n",
       "      <th>415664843</th>\n",
       "      <td>0</td>\n",
       "      <td>0</td>\n",
       "      <td>1</td>\n",
       "      <td>0</td>\n",
       "    </tr>\n",
       "    <tr>\n",
       "      <th>415730082</th>\n",
       "      <td>0</td>\n",
       "      <td>0</td>\n",
       "      <td>0</td>\n",
       "      <td>2</td>\n",
       "    </tr>\n",
       "    <tr>\n",
       "      <th>415761992</th>\n",
       "      <td>0</td>\n",
       "      <td>0</td>\n",
       "      <td>0</td>\n",
       "      <td>1</td>\n",
       "    </tr>\n",
       "  </tbody>\n",
       "</table>\n",
       "<p>71500 rows × 4 columns</p>\n",
       "</div>"
      ],
      "text/plain": [
       "host_response_time  a few days or more  within a day  within a few hours  \\\n",
       "host_id                                                                    \n",
       "23                                   0             3                   0   \n",
       "615                                  0             0                   0   \n",
       "666                                  0             0                   0   \n",
       "908                                  0             0                  15   \n",
       "933                                  0             0                   2   \n",
       "...                                ...           ...                 ...   \n",
       "415509559                            0             0                   3   \n",
       "415516728                            0             0                   1   \n",
       "415664843                            0             0                   1   \n",
       "415730082                            0             0                   0   \n",
       "415761992                            0             0                   0   \n",
       "\n",
       "host_response_time  within an hour  \n",
       "host_id                             \n",
       "23                               0  \n",
       "615                              2  \n",
       "666                              2  \n",
       "908                              0  \n",
       "933                              0  \n",
       "...                            ...  \n",
       "415509559                        0  \n",
       "415516728                        0  \n",
       "415664843                        0  \n",
       "415730082                        2  \n",
       "415761992                        1  \n",
       "\n",
       "[71500 rows x 4 columns]"
      ]
     },
     "execution_count": 45,
     "metadata": {},
     "output_type": "execute_result"
    }
   ],
   "source": [
    "response_count\n",
    "# host response time --> few days or more, within a day, within a few hours, within an hour"
   ]
  },
  {
   "cell_type": "code",
   "execution_count": 46,
   "id": "3ff67d6a",
   "metadata": {},
   "outputs": [
    {
     "data": {
      "text/plain": [
       "host_id\n",
       "23                 within a day\n",
       "615              within an hour\n",
       "666              within an hour\n",
       "908          within a few hours\n",
       "933          within a few hours\n",
       "                    ...        \n",
       "415509559    within a few hours\n",
       "415516728    within a few hours\n",
       "415664843    within a few hours\n",
       "415730082        within an hour\n",
       "415761992        within an hour\n",
       "Length: 71500, dtype: object"
      ]
     },
     "execution_count": 46,
     "metadata": {},
     "output_type": "execute_result"
    }
   ],
   "source": [
    "response_count.idxmax(axis = 1)\n",
    "# The idxmax() function is used to get the row label of the maximum value. If multiple values equal the maximum, the first row label with that value is returned. Exclude NA/null values. If the entire Series is NA, the result will be NA"
   ]
  },
  {
   "cell_type": "code",
   "execution_count": 47,
   "id": "49a54eb2",
   "metadata": {},
   "outputs": [
    {
     "data": {
      "text/plain": [
       "Int64Index([       23,       615,       666,       908,       933,       990,\n",
       "                 1033,      1169,      1221,      1618,\n",
       "            ...\n",
       "            415301544, 415302168, 415320191, 415362392, 415365919, 415509559,\n",
       "            415516728, 415664843, 415730082, 415761992],\n",
       "           dtype='int64', name='host_id', length=71500)"
      ]
     },
     "execution_count": 47,
     "metadata": {},
     "output_type": "execute_result"
    }
   ],
   "source": [
    "response_count.index"
   ]
  },
  {
   "cell_type": "code",
   "execution_count": 48,
   "id": "51322851",
   "metadata": {},
   "outputs": [
    {
     "data": {
      "text/plain": [
       "44446"
      ]
     },
     "execution_count": 48,
     "metadata": {},
     "output_type": "execute_result"
    }
   ],
   "source": [
    "null_response_host_id = df_new.loc[df_new['host_response_time'].isnull(),'host_id']\n",
    "len(null_response_host_id.values)\n",
    "# 44446 null values are present in the host response time , 44446 indicates the host ids of those null response time "
   ]
  },
  {
   "cell_type": "code",
   "execution_count": 49,
   "id": "9708d3d3",
   "metadata": {},
   "outputs": [],
   "source": [
    "df_new['host_listings_count'].fillna(df_new['host_listings_count'].mode()[0], inplace = True)"
   ]
  },
  {
   "cell_type": "code",
   "execution_count": 50,
   "id": "73df63a3",
   "metadata": {},
   "outputs": [],
   "source": [
    "#imputing response time according to hostid, if host_id has multiple listing and one listing has\n",
    "#some response time but other listing does not have then imputing in it that response time too\n",
    "# if hostid having single listing then we are imputing it with mode of the response time\n",
    "\n",
    "for i in null_response_host_id.values:\n",
    "    if i in response_count.index:\n",
    "        df_new.loc[df_new['host_id']==i,'host_response_time']=response_count.idxmax(axis = 1)[i]\n",
    "    else:\n",
    "        df_new.loc[df_new['host_id']==i,'host_response_time'] = df_new['host_response_time'].mode()[0]"
   ]
  },
  {
   "cell_type": "code",
   "execution_count": 51,
   "id": "03039b69",
   "metadata": {},
   "outputs": [],
   "source": [
    "# imputing response time with mode of the acceptance rate\n",
    "df_new.loc[df_new['host_acceptance_rate'].isnull(),'host_acceptance_rate'] = df_new['host_acceptance_rate'].mode()[0]"
   ]
  },
  {
   "cell_type": "markdown",
   "id": "46d22aeb",
   "metadata": {},
   "source": [
    "1.) host_since is imputed with the minimum host_since dat\n",
    "\n",
    "\n",
    "2.) all the review columns are imputed with the corresponding mean of the scores of, also average for scores are different for different cities so cities are taken into consideration to fill the nan values\n",
    "\n",
    "3.) host_response_time is imputed considering host_id, if host_id has multiple listings and one of the listing has response time but other listing doesnt have that then we impute it with the response time of the available listing else we impute it with the mode of listing\n",
    "\n",
    "\n",
    "4.) All other numerical and categorical columns having null values are imputed with either mode or median or mean"
   ]
  },
  {
   "cell_type": "code",
   "execution_count": 52,
   "id": "e11d0189",
   "metadata": {},
   "outputs": [
    {
     "data": {
      "text/plain": [
       "array([28801, 28806, 28804, ...,\n",
       "       'Twining, Fairlawn, Randle Highlands, Penn Branch, Fort Davis Park, Fort Dupont',\n",
       "       'Near Southeast, Navy Yard',\n",
       "       'Woodland/Fort Stanton, Garfield Heights, Knox Hill'], dtype=object)"
      ]
     },
     "execution_count": 52,
     "metadata": {},
     "output_type": "execute_result"
    }
   ],
   "source": [
    "# From the unique values of neighbourhood_cleansed we can see that there is presence of strings as well as numerical values\n",
    "# which makes difficult to retrive certain specific strings from the records.\n",
    "\n",
    "df_new['neighbourhood_cleansed'].unique()"
   ]
  },
  {
   "cell_type": "code",
   "execution_count": 53,
   "id": "87578cda",
   "metadata": {},
   "outputs": [],
   "source": [
    "df_new['review_scores_accuracy'].fillna(df_new['review_scores_accuracy'].mean(), inplace = True )\n",
    "df_new['review_scores_value'].fillna(df_new['review_scores_value'].mean(), inplace = True )\n",
    "df_new['review_scores_location'].fillna(df_new['review_scores_location'].mean(),inplace = True)\n",
    "df_new['review_scores_checkin'].fillna(df_new['review_scores_checkin'].mean(),inplace = True)\n",
    "df_new['reviews_per_month'].fillna(df_new['reviews_per_month'].mean(),inplace = True)\n",
    "df_new['review_scores_cleanliness'].fillna(df_new['review_scores_cleanliness'].mean(), inplace = True)\n",
    "df_new['review_scores_communication'].fillna(df_new['review_scores_communication'].mean(),inplace = True)\n",
    "df_new['review_scores_rating'].fillna(df_new['review_scores_rating'].mean(),inplace = True)"
   ]
  },
  {
   "cell_type": "code",
   "execution_count": 54,
   "id": "30f2e86d",
   "metadata": {},
   "outputs": [],
   "source": [
    "# Dividing neighbourhood_cleansed' into 2 different columns - digit and text\n",
    "\n",
    "df_new['neighbourhood_digit'] = pd.to_numeric(df_new['neighbourhood_cleansed'], errors = 'coerce')\n"
   ]
  },
  {
   "cell_type": "code",
   "execution_count": 55,
   "id": "d7306dde",
   "metadata": {},
   "outputs": [
    {
     "data": {
      "text/plain": [
       "0        28801.00000\n",
       "1        28806.00000\n",
       "2        28806.00000\n",
       "3        28806.00000\n",
       "4        28801.00000\n",
       "             ...    \n",
       "201704           NaN\n",
       "201705           NaN\n",
       "201706           NaN\n",
       "201707           NaN\n",
       "201708           NaN\n",
       "Name: neighbourhood_digit, Length: 201438, dtype: float64"
      ]
     },
     "execution_count": 55,
     "metadata": {},
     "output_type": "execute_result"
    }
   ],
   "source": [
    "df_new['neighbourhood_digit']\n",
    "# it only has the numeric digits \n",
    "# errors = 'coerce', It will ignore all non-numeric values. Output: Code #3: Using errors='coerce'. It will replace all non-numeric values with NaN."
   ]
  },
  {
   "cell_type": "code",
   "execution_count": 56,
   "id": "72072b1a",
   "metadata": {},
   "outputs": [],
   "source": [
    "mask = df_new['neighbourhood_digit'].isna()\n",
    "# mask contains True, for all those null values, which contained \n",
    "# the non-numeric content. "
   ]
  },
  {
   "cell_type": "code",
   "execution_count": 57,
   "id": "c6044fb8",
   "metadata": {},
   "outputs": [],
   "source": [
    "# so df['neighbour_digit'] is of no use "
   ]
  },
  {
   "cell_type": "code",
   "execution_count": 58,
   "id": "569b431e",
   "metadata": {},
   "outputs": [],
   "source": [
    "df_new.loc[mask,'neighbour_text'] = df_new.loc[mask, 'neighbourhood_cleansed']\n",
    "# wherever mask value was False, make a new column neighbourhood text, which will contain all the neighbourhood locations "
   ]
  },
  {
   "cell_type": "code",
   "execution_count": 59,
   "id": "c6f82539",
   "metadata": {},
   "outputs": [
    {
     "data": {
      "text/plain": [
       "array([nan, 'East Boston', 'Roxbury', ...,\n",
       "       'Twining, Fairlawn, Randle Highlands, Penn Branch, Fort Davis Park, Fort Dupont',\n",
       "       'Near Southeast, Navy Yard',\n",
       "       'Woodland/Fort Stanton, Garfield Heights, Knox Hill'], dtype=object)"
      ]
     },
     "execution_count": 59,
     "metadata": {},
     "output_type": "execute_result"
    }
   ],
   "source": [
    "df_new['neighbour_text'].unique()"
   ]
  },
  {
   "cell_type": "code",
   "execution_count": 60,
   "id": "ea60f590",
   "metadata": {},
   "outputs": [],
   "source": [
    "# we have filled all the NaN values wherever there were digits were present in the neighbourhood cleansed."
   ]
  },
  {
   "cell_type": "code",
   "execution_count": 61,
   "id": "6be283d7",
   "metadata": {},
   "outputs": [],
   "source": [
    "# Filling NaN values with '###'\n",
    "# This step is required since we will create a function next and it wont work if there are presence of null values.\n",
    "df_new['neighbour_text'] = df_new['neighbour_text'].fillna('###')"
   ]
  },
  {
   "cell_type": "markdown",
   "id": "b81ab88c",
   "metadata": {},
   "source": [
    "## FEATURE ENGINEERING "
   ]
  },
  {
   "cell_type": "code",
   "execution_count": 62,
   "id": "84c8dbb9",
   "metadata": {},
   "outputs": [],
   "source": [
    "# create a function to count properties which have 'Park'\n",
    "def near_park(x):\n",
    "    if 'Park' in x:\n",
    "        return 't'\n",
    "    else:\n",
    "        return 'f' "
   ]
  },
  {
   "cell_type": "code",
   "execution_count": 63,
   "id": "0b9ed9e3",
   "metadata": {},
   "outputs": [],
   "source": [
    "df_new['park_view'] = df_new['neighbour_text'].apply(near_park)\n",
    "# apply the 'near_park' function on neighbourhood text"
   ]
  },
  {
   "cell_type": "code",
   "execution_count": 64,
   "id": "5b84c468",
   "metadata": {},
   "outputs": [
    {
     "data": {
      "text/plain": [
       "f    191396\n",
       "t     10042\n",
       "Name: park_view, dtype: int64"
      ]
     },
     "execution_count": 64,
     "metadata": {},
     "output_type": "execute_result"
    }
   ],
   "source": [
    "df_new['park_view'].value_counts()"
   ]
  },
  {
   "cell_type": "code",
   "execution_count": 65,
   "id": "340658ed",
   "metadata": {},
   "outputs": [],
   "source": [
    "# creating a function which properties have water bodies in their neighbourhood\n",
    "\n",
    "def near_water(x):\n",
    "    mylist = ['Beach','Lake','Lakes','Sea','Bay','Waterfront','Creek','Riverside','Shore','Meadows']\n",
    "    for i in mylist:\n",
    "        if i in x:\n",
    "            return 't'\n",
    "    else:\n",
    "        return 'f'"
   ]
  },
  {
   "cell_type": "code",
   "execution_count": 66,
   "id": "15c41b9c",
   "metadata": {},
   "outputs": [],
   "source": [
    "df_new['water_view'] = df_new['neighbour_text'].apply(near_water)\n",
    "# apply the function the neighbourhood text"
   ]
  },
  {
   "cell_type": "code",
   "execution_count": 67,
   "id": "7785d999",
   "metadata": {},
   "outputs": [
    {
     "data": {
      "text/plain": [
       "f    186992\n",
       "t     14446\n",
       "Name: water_view, dtype: int64"
      ]
     },
     "execution_count": 67,
     "metadata": {},
     "output_type": "execute_result"
    }
   ],
   "source": [
    "df_new['water_view'].value_counts()\n",
    "# most of the properties doesn't have water bodies, in their neighbourhood"
   ]
  },
  {
   "cell_type": "code",
   "execution_count": 68,
   "id": "f8a1238d",
   "metadata": {},
   "outputs": [],
   "source": [
    "# Creating a function to count records which contains mountains related locations.\n",
    "\n",
    "def near_hill(x):\n",
    "    mylist = ['Hill','Hills','Valley','Canyons']\n",
    "    for i in mylist:\n",
    "        if i in x:\n",
    "            return 't'\n",
    "    else:\n",
    "        return 'f'"
   ]
  },
  {
   "cell_type": "code",
   "execution_count": 69,
   "id": "f31f61f6",
   "metadata": {},
   "outputs": [],
   "source": [
    "df_new['hill_view'] = df_new['neighbour_text'].apply(near_hill)"
   ]
  },
  {
   "cell_type": "code",
   "execution_count": 70,
   "id": "c4af16ad",
   "metadata": {},
   "outputs": [
    {
     "data": {
      "text/plain": [
       "f    192705\n",
       "t      8733\n",
       "Name: hill_view, dtype: int64"
      ]
     },
     "execution_count": 70,
     "metadata": {},
     "output_type": "execute_result"
    }
   ],
   "source": [
    "df_new['hill_view'].value_counts()"
   ]
  },
  {
   "cell_type": "code",
   "execution_count": 71,
   "id": "cf6e8414",
   "metadata": {},
   "outputs": [],
   "source": [
    "# Changing data type of 3 new featues.\n",
    "\n",
    "df_new['park_view'] = df_new['park_view'].astype('object')\n",
    "df_new['water_view'] = df_new['water_view'].astype('object')\n",
    "df_new['hill_view'] = df_new['hill_view'].astype('object')"
   ]
  },
  {
   "cell_type": "code",
   "execution_count": 72,
   "id": "325721dd",
   "metadata": {},
   "outputs": [],
   "source": [
    "# Dropping'neighbourhood_cleansed','neighbour_digit','neighbour_text' features.\n",
    "\n",
    "df_new.drop(['neighbourhood_cleansed','neighbour_text', ],axis=1,inplace=True)"
   ]
  },
  {
   "cell_type": "code",
   "execution_count": 73,
   "id": "cb100855",
   "metadata": {},
   "outputs": [],
   "source": [
    "df_new.drop('neighbourhood_digit', axis = 1, inplace = True)"
   ]
  },
  {
   "cell_type": "code",
   "execution_count": 74,
   "id": "89b025f0",
   "metadata": {},
   "outputs": [],
   "source": [
    "from datetime import datetime \n",
    "from dateutil import relativedelta \n",
    "import datetime "
   ]
  },
  {
   "cell_type": "raw",
   "id": "06004d6c",
   "metadata": {},
   "source": [
    "dateutil is an extension package to the python standard datetime module. As you say, it provides extra functionality, such as timedeltas that are expressed in units larger than a day.\n"
   ]
  },
  {
   "cell_type": "markdown",
   "id": "b3dcffbe",
   "metadata": {},
   "source": [
    "#### Calculate the Host Experience "
   ]
  },
  {
   "cell_type": "code",
   "execution_count": 75,
   "id": "0b95c486",
   "metadata": {},
   "outputs": [],
   "source": [
    "diff = pd.to_datetime(df_new['last_scraped']) - pd.to_datetime(df_new['host_since'])"
   ]
  },
  {
   "cell_type": "code",
   "execution_count": 76,
   "id": "bbc87c1d",
   "metadata": {},
   "outputs": [],
   "source": [
    "#diff = (end.year - start.year) * 12 + (end.month  - start.month )\n",
    "\n",
    "# Aadding a column in main data frame. \n",
    "df_new['diff_in_month'] =  (((pd.to_datetime(df['last_scraped']).dt.year) - (pd.to_datetime(df_new['host_since']).dt.year))* 12) + (pd.to_datetime(df['last_scraped']).dt.month - pd.to_datetime(df_new['host_since']).dt.month)"
   ]
  },
  {
   "cell_type": "code",
   "execution_count": 77,
   "id": "9a0f2869",
   "metadata": {},
   "outputs": [],
   "source": [
    "# adding another coloum as 'host_age' based on diff_in_month as below condition\n",
    "# two categories has been made --> old and new \n",
    "#if diff_in_month > 6 month  -->  value os 'old' \n",
    "# else value is 'new' \n",
    "\n",
    "\n",
    "df_new['host_exp'] = ['new' if  i < 7 else 'old' for i in df_new['diff_in_month']]\n",
    "\n",
    "#host_age = ['new' if  i > 7 else 'old' for i in inmonth['diff']]"
   ]
  },
  {
   "cell_type": "markdown",
   "id": "d8414803",
   "metadata": {},
   "source": [
    "### Correlation with the Target Variable "
   ]
  },
  {
   "cell_type": "code",
   "execution_count": 78,
   "id": "eff21773",
   "metadata": {},
   "outputs": [
    {
     "data": {
      "image/png": "[encoded data removed]",
      "text/plain": [
       "<Figure size 648x864 with 2 Axes>"
      ]
     },
     "metadata": {
      "needs_background": "light"
     },
     "output_type": "display_data"
    }
   ],
   "source": [
    "plt.figure(figsize = (9,12))\n",
    "sns.heatmap(df_new.corr()[['price']], annot = True)\n",
    "plt.show()"
   ]
  },
  {
   "cell_type": "markdown",
   "id": "b51c4418",
   "metadata": {},
   "source": [
    "### import the city data "
   ]
  },
  {
   "cell_type": "code",
   "execution_count": 79,
   "id": "07148a92",
   "metadata": {},
   "outputs": [
    {
     "data": {
      "text/plain": [
       "(28, 7)"
      ]
     },
     "execution_count": 79,
     "metadata": {},
     "output_type": "execute_result"
    }
   ],
   "source": [
    "df_city = pd.read_excel('City_Data_updated.xlsx')\n",
    "df_city.shape"
   ]
  },
  {
   "cell_type": "code",
   "execution_count": 80,
   "id": "378306e5",
   "metadata": {},
   "outputs": [],
   "source": [
    "df_city.rename(columns = {'city': 'City'}, inplace = True)"
   ]
  },
  {
   "cell_type": "markdown",
   "id": "765b4a78",
   "metadata": {},
   "source": [
    "* in the dataFrame, we have added some extra features, such as population, landscape, weather of that city, and have \n",
    "assigned different tiers to the cities, on the basis of population, highly populated cities being the Tier 1 cities."
   ]
  },
  {
   "cell_type": "code",
   "execution_count": 81,
   "id": "d1bb58a4",
   "metadata": {},
   "outputs": [
    {
     "data": {
      "text/html": [
       "<div>\n",
       "<style scoped>\n",
       "    .dataframe tbody tr th:only-of-type {\n",
       "        vertical-align: middle;\n",
       "    }\n",
       "\n",
       "    .dataframe tbody tr th {\n",
       "        vertical-align: top;\n",
       "    }\n",
       "\n",
       "    .dataframe thead th {\n",
       "        text-align: right;\n",
       "    }\n",
       "</style>\n",
       "<table border=\"1\" class=\"dataframe\">\n",
       "  <thead>\n",
       "    <tr style=\"text-align: right;\">\n",
       "      <th></th>\n",
       "      <th>City</th>\n",
       "      <th>state</th>\n",
       "      <th>population</th>\n",
       "      <th>Geography</th>\n",
       "      <th>landscape</th>\n",
       "      <th>Weather</th>\n",
       "      <th>city_tier</th>\n",
       "    </tr>\n",
       "  </thead>\n",
       "  <tbody>\n",
       "    <tr>\n",
       "      <th>0</th>\n",
       "      <td>New_York</td>\n",
       "      <td>New York</td>\n",
       "      <td>18713220</td>\n",
       "      <td>farms, forests, rivers, mountains, and lakes.</td>\n",
       "      <td>Plain</td>\n",
       "      <td>High  temperatures and evenly distributed prec...</td>\n",
       "      <td>Tier1</td>\n",
       "    </tr>\n",
       "    <tr>\n",
       "      <th>1</th>\n",
       "      <td>Los_Angeles</td>\n",
       "      <td>California</td>\n",
       "      <td>12750807</td>\n",
       "      <td>a coastal plain separated by low mountains</td>\n",
       "      <td>Coastal Plain</td>\n",
       "      <td>Hot Summer and cold Winter</td>\n",
       "      <td>Tier1</td>\n",
       "    </tr>\n",
       "    <tr>\n",
       "      <th>2</th>\n",
       "      <td>Hawaii</td>\n",
       "      <td>Hawaii</td>\n",
       "      <td>1826327</td>\n",
       "      <td>a group of volcanic islands</td>\n",
       "      <td>islands</td>\n",
       "      <td>Hot Summer and cold Winter</td>\n",
       "      <td>Tier1</td>\n",
       "    </tr>\n",
       "    <tr>\n",
       "      <th>3</th>\n",
       "      <td>Broward_County</td>\n",
       "      <td>Florida</td>\n",
       "      <td>1944375</td>\n",
       "      <td>Green plain land with Sea coast</td>\n",
       "      <td>Coastal Plain</td>\n",
       "      <td>Hot Summer and cold Winter</td>\n",
       "      <td>Tier1</td>\n",
       "    </tr>\n",
       "    <tr>\n",
       "      <th>4</th>\n",
       "      <td>Austin</td>\n",
       "      <td>Texas</td>\n",
       "      <td>1687311</td>\n",
       "      <td>Colorado River,hill Country ,limestone cliff</td>\n",
       "      <td>Hilly</td>\n",
       "      <td>Hot Summer and Mild Winter</td>\n",
       "      <td>Tier1</td>\n",
       "    </tr>\n",
       "  </tbody>\n",
       "</table>\n",
       "</div>"
      ],
      "text/plain": [
       "             City       state  population  \\\n",
       "0        New_York    New York    18713220   \n",
       "1     Los_Angeles  California    12750807   \n",
       "2          Hawaii      Hawaii     1826327   \n",
       "3  Broward_County     Florida     1944375   \n",
       "4          Austin       Texas     1687311   \n",
       "\n",
       "                                       Geography      landscape  \\\n",
       "0  farms, forests, rivers, mountains, and lakes.         Plain    \n",
       "1    a coastal plain separated by low mountains   Coastal Plain   \n",
       "2                    a group of volcanic islands        islands   \n",
       "3                Green plain land with Sea coast  Coastal Plain   \n",
       "4   Colorado River,hill Country ,limestone cliff          Hilly   \n",
       "\n",
       "                                             Weather city_tier  \n",
       "0  High  temperatures and evenly distributed prec...     Tier1  \n",
       "1                         Hot Summer and cold Winter     Tier1  \n",
       "2                         Hot Summer and cold Winter     Tier1  \n",
       "3                         Hot Summer and cold Winter     Tier1  \n",
       "4                         Hot Summer and Mild Winter     Tier1  "
      ]
     },
     "execution_count": 81,
     "metadata": {},
     "output_type": "execute_result"
    }
   ],
   "source": [
    "df_city.head(5)"
   ]
  },
  {
   "cell_type": "code",
   "execution_count": 82,
   "id": "55e2ae12",
   "metadata": {},
   "outputs": [],
   "source": [
    "df_final = df_new.merge(df_city, on = 'City')\n",
    "# create a final dataFrame"
   ]
  },
  {
   "cell_type": "code",
   "execution_count": 83,
   "id": "75a024fe",
   "metadata": {},
   "outputs": [
    {
     "data": {
      "text/plain": [
       "(201438, 51)"
      ]
     },
     "execution_count": 83,
     "metadata": {},
     "output_type": "execute_result"
    }
   ],
   "source": [
    "df_final.shape\n",
    "# shape of the dataFrame, after including extra features. "
   ]
  },
  {
   "cell_type": "code",
   "execution_count": 84,
   "id": "b7662084",
   "metadata": {},
   "outputs": [
    {
     "data": {
      "text/html": [
       "<div>\n",
       "<style scoped>\n",
       "    .dataframe tbody tr th:only-of-type {\n",
       "        vertical-align: middle;\n",
       "    }\n",
       "\n",
       "    .dataframe tbody tr th {\n",
       "        vertical-align: top;\n",
       "    }\n",
       "\n",
       "    .dataframe thead th {\n",
       "        text-align: right;\n",
       "    }\n",
       "</style>\n",
       "<table border=\"1\" class=\"dataframe\">\n",
       "  <thead>\n",
       "    <tr style=\"text-align: right;\">\n",
       "      <th></th>\n",
       "      <th>host_id</th>\n",
       "      <th>host_since</th>\n",
       "      <th>host_location</th>\n",
       "      <th>host_response_time</th>\n",
       "      <th>host_acceptance_rate</th>\n",
       "      <th>host_is_superhost</th>\n",
       "      <th>host_listings_count</th>\n",
       "      <th>host_total_listings_count</th>\n",
       "      <th>host_identity_verified</th>\n",
       "      <th>latitude</th>\n",
       "      <th>longitude</th>\n",
       "      <th>room_type</th>\n",
       "      <th>accommodates</th>\n",
       "      <th>bathrooms_text</th>\n",
       "      <th>bedrooms</th>\n",
       "      <th>beds</th>\n",
       "      <th>amenities</th>\n",
       "      <th>price</th>\n",
       "      <th>minimum_nights</th>\n",
       "      <th>has_availability</th>\n",
       "      <th>availability_30</th>\n",
       "      <th>availability_60</th>\n",
       "      <th>availability_90</th>\n",
       "      <th>availability_365</th>\n",
       "      <th>number_of_reviews_ltm</th>\n",
       "      <th>review_scores_rating</th>\n",
       "      <th>review_scores_accuracy</th>\n",
       "      <th>review_scores_cleanliness</th>\n",
       "      <th>review_scores_checkin</th>\n",
       "      <th>review_scores_communication</th>\n",
       "      <th>review_scores_location</th>\n",
       "      <th>review_scores_value</th>\n",
       "      <th>instant_bookable</th>\n",
       "      <th>calculated_host_listings_count</th>\n",
       "      <th>reviews_per_month</th>\n",
       "      <th>City</th>\n",
       "      <th>calculated_host_listings_count_private_rooms</th>\n",
       "      <th>calculated_host_listings_count_shared_rooms</th>\n",
       "      <th>last_scraped</th>\n",
       "      <th>calculated_host_listings_count_entire_homes</th>\n",
       "      <th>park_view</th>\n",
       "      <th>water_view</th>\n",
       "      <th>hill_view</th>\n",
       "      <th>diff_in_month</th>\n",
       "      <th>host_exp</th>\n",
       "      <th>state</th>\n",
       "      <th>population</th>\n",
       "      <th>Geography</th>\n",
       "      <th>landscape</th>\n",
       "      <th>Weather</th>\n",
       "      <th>city_tier</th>\n",
       "    </tr>\n",
       "  </thead>\n",
       "  <tbody>\n",
       "    <tr>\n",
       "      <th>0</th>\n",
       "      <td>320564</td>\n",
       "      <td>2010-12-16</td>\n",
       "      <td>Asheville, North Carolina, United States</td>\n",
       "      <td>within a day</td>\n",
       "      <td>25%</td>\n",
       "      <td>f</td>\n",
       "      <td>2.00000</td>\n",
       "      <td>2.00000</td>\n",
       "      <td>t</td>\n",
       "      <td>35.60670</td>\n",
       "      <td>-82.55563</td>\n",
       "      <td>Entire home/apt</td>\n",
       "      <td>2</td>\n",
       "      <td>1 bath</td>\n",
       "      <td>1.00000</td>\n",
       "      <td>1.00000</td>\n",
       "      <td>[\"Microwave\", \"Free parking on premises\", \"Ded...</td>\n",
       "      <td>82.00000</td>\n",
       "      <td>30</td>\n",
       "      <td>t</td>\n",
       "      <td>0</td>\n",
       "      <td>1</td>\n",
       "      <td>1</td>\n",
       "      <td>217</td>\n",
       "      <td>0</td>\n",
       "      <td>4.49000</td>\n",
       "      <td>4.57000</td>\n",
       "      <td>4.70000</td>\n",
       "      <td>4.85000</td>\n",
       "      <td>4.79000</td>\n",
       "      <td>4.84000</td>\n",
       "      <td>4.48000</td>\n",
       "      <td>f</td>\n",
       "      <td>2</td>\n",
       "      <td>0.75000</td>\n",
       "      <td>Ashville</td>\n",
       "      <td>0</td>\n",
       "      <td>0</td>\n",
       "      <td>2021-07-10</td>\n",
       "      <td>2</td>\n",
       "      <td>f</td>\n",
       "      <td>f</td>\n",
       "      <td>f</td>\n",
       "      <td>127.00000</td>\n",
       "      <td>old</td>\n",
       "      <td>North Carolina</td>\n",
       "      <td>312507</td>\n",
       "      <td>Mountains with Land</td>\n",
       "      <td>Plain and Hilly area</td>\n",
       "      <td>wetter Summer and Cold Winter</td>\n",
       "      <td>Tier3</td>\n",
       "    </tr>\n",
       "    <tr>\n",
       "      <th>1</th>\n",
       "      <td>746673</td>\n",
       "      <td>2011-06-26</td>\n",
       "      <td>Asheville, North Carolina, United States</td>\n",
       "      <td>within an hour</td>\n",
       "      <td>99%</td>\n",
       "      <td>t</td>\n",
       "      <td>7.00000</td>\n",
       "      <td>7.00000</td>\n",
       "      <td>t</td>\n",
       "      <td>35.57864</td>\n",
       "      <td>-82.59578</td>\n",
       "      <td>Entire home/apt</td>\n",
       "      <td>2</td>\n",
       "      <td>1 bath</td>\n",
       "      <td>1.00000</td>\n",
       "      <td>1.00000</td>\n",
       "      <td>[\"Stove\", \"Microwave\", \"Free parking on premis...</td>\n",
       "      <td>91.00000</td>\n",
       "      <td>1</td>\n",
       "      <td>t</td>\n",
       "      <td>13</td>\n",
       "      <td>33</td>\n",
       "      <td>48</td>\n",
       "      <td>130</td>\n",
       "      <td>70</td>\n",
       "      <td>4.57000</td>\n",
       "      <td>4.68000</td>\n",
       "      <td>4.38000</td>\n",
       "      <td>4.81000</td>\n",
       "      <td>4.76000</td>\n",
       "      <td>4.92000</td>\n",
       "      <td>4.51000</td>\n",
       "      <td>t</td>\n",
       "      <td>7</td>\n",
       "      <td>5.39000</td>\n",
       "      <td>Ashville</td>\n",
       "      <td>2</td>\n",
       "      <td>4</td>\n",
       "      <td>2021-07-10</td>\n",
       "      <td>1</td>\n",
       "      <td>f</td>\n",
       "      <td>f</td>\n",
       "      <td>f</td>\n",
       "      <td>121.00000</td>\n",
       "      <td>old</td>\n",
       "      <td>North Carolina</td>\n",
       "      <td>312507</td>\n",
       "      <td>Mountains with Land</td>\n",
       "      <td>Plain and Hilly area</td>\n",
       "      <td>wetter Summer and Cold Winter</td>\n",
       "      <td>Tier3</td>\n",
       "    </tr>\n",
       "    <tr>\n",
       "      <th>2</th>\n",
       "      <td>746673</td>\n",
       "      <td>2011-06-26</td>\n",
       "      <td>Asheville, North Carolina, United States</td>\n",
       "      <td>within an hour</td>\n",
       "      <td>99%</td>\n",
       "      <td>t</td>\n",
       "      <td>7.00000</td>\n",
       "      <td>7.00000</td>\n",
       "      <td>t</td>\n",
       "      <td>35.57864</td>\n",
       "      <td>-82.59578</td>\n",
       "      <td>Private room</td>\n",
       "      <td>2</td>\n",
       "      <td>2.5 shared baths</td>\n",
       "      <td>1.00000</td>\n",
       "      <td>1.00000</td>\n",
       "      <td>[\"Dishes and silverware\", \"Hot water\", \"Smoke ...</td>\n",
       "      <td>66.00000</td>\n",
       "      <td>1</td>\n",
       "      <td>t</td>\n",
       "      <td>0</td>\n",
       "      <td>0</td>\n",
       "      <td>0</td>\n",
       "      <td>4</td>\n",
       "      <td>0</td>\n",
       "      <td>4.52000</td>\n",
       "      <td>4.73000</td>\n",
       "      <td>4.43000</td>\n",
       "      <td>4.76000</td>\n",
       "      <td>4.61000</td>\n",
       "      <td>4.84000</td>\n",
       "      <td>4.46000</td>\n",
       "      <td>t</td>\n",
       "      <td>7</td>\n",
       "      <td>3.09000</td>\n",
       "      <td>Ashville</td>\n",
       "      <td>2</td>\n",
       "      <td>4</td>\n",
       "      <td>2021-07-10</td>\n",
       "      <td>1</td>\n",
       "      <td>f</td>\n",
       "      <td>f</td>\n",
       "      <td>f</td>\n",
       "      <td>121.00000</td>\n",
       "      <td>old</td>\n",
       "      <td>North Carolina</td>\n",
       "      <td>312507</td>\n",
       "      <td>Mountains with Land</td>\n",
       "      <td>Plain and Hilly area</td>\n",
       "      <td>wetter Summer and Cold Winter</td>\n",
       "      <td>Tier3</td>\n",
       "    </tr>\n",
       "  </tbody>\n",
       "</table>\n",
       "</div>"
      ],
      "text/plain": [
       "   host_id  host_since                             host_location  \\\n",
       "0   320564  2010-12-16  Asheville, North Carolina, United States   \n",
       "1   746673  2011-06-26  Asheville, North Carolina, United States   \n",
       "2   746673  2011-06-26  Asheville, North Carolina, United States   \n",
       "\n",
       "  host_response_time host_acceptance_rate host_is_superhost  \\\n",
       "0       within a day                  25%                 f   \n",
       "1     within an hour                  99%                 t   \n",
       "2     within an hour                  99%                 t   \n",
       "\n",
       "   host_listings_count  host_total_listings_count host_identity_verified  \\\n",
       "0              2.00000                    2.00000                      t   \n",
       "1              7.00000                    7.00000                      t   \n",
       "2              7.00000                    7.00000                      t   \n",
       "\n",
       "   latitude  longitude        room_type  accommodates    bathrooms_text  \\\n",
       "0  35.60670  -82.55563  Entire home/apt             2            1 bath   \n",
       "1  35.57864  -82.59578  Entire home/apt             2            1 bath   \n",
       "2  35.57864  -82.59578     Private room             2  2.5 shared baths   \n",
       "\n",
       "   bedrooms    beds                                          amenities  \\\n",
       "0   1.00000 1.00000  [\"Microwave\", \"Free parking on premises\", \"Ded...   \n",
       "1   1.00000 1.00000  [\"Stove\", \"Microwave\", \"Free parking on premis...   \n",
       "2   1.00000 1.00000  [\"Dishes and silverware\", \"Hot water\", \"Smoke ...   \n",
       "\n",
       "     price  minimum_nights has_availability  availability_30  availability_60  \\\n",
       "0 82.00000              30                t                0                1   \n",
       "1 91.00000               1                t               13               33   \n",
       "2 66.00000               1                t                0                0   \n",
       "\n",
       "   availability_90  availability_365  number_of_reviews_ltm  \\\n",
       "0                1               217                      0   \n",
       "1               48               130                     70   \n",
       "2                0                 4                      0   \n",
       "\n",
       "   review_scores_rating  review_scores_accuracy  review_scores_cleanliness  \\\n",
       "0               4.49000                 4.57000                    4.70000   \n",
       "1               4.57000                 4.68000                    4.38000   \n",
       "2               4.52000                 4.73000                    4.43000   \n",
       "\n",
       "   review_scores_checkin  review_scores_communication  review_scores_location  \\\n",
       "0                4.85000                      4.79000                 4.84000   \n",
       "1                4.81000                      4.76000                 4.92000   \n",
       "2                4.76000                      4.61000                 4.84000   \n",
       "\n",
       "   review_scores_value instant_bookable  calculated_host_listings_count  \\\n",
       "0              4.48000                f                               2   \n",
       "1              4.51000                t                               7   \n",
       "2              4.46000                t                               7   \n",
       "\n",
       "   reviews_per_month      City  calculated_host_listings_count_private_rooms  \\\n",
       "0            0.75000  Ashville                                             0   \n",
       "1            5.39000  Ashville                                             2   \n",
       "2            3.09000  Ashville                                             2   \n",
       "\n",
       "   calculated_host_listings_count_shared_rooms last_scraped  \\\n",
       "0                                            0   2021-07-10   \n",
       "1                                            4   2021-07-10   \n",
       "2                                            4   2021-07-10   \n",
       "\n",
       "   calculated_host_listings_count_entire_homes park_view water_view hill_view  \\\n",
       "0                                            2         f          f         f   \n",
       "1                                            1         f          f         f   \n",
       "2                                            1         f          f         f   \n",
       "\n",
       "   diff_in_month host_exp           state  population            Geography  \\\n",
       "0      127.00000      old  North Carolina      312507  Mountains with Land   \n",
       "1      121.00000      old  North Carolina      312507  Mountains with Land   \n",
       "2      121.00000      old  North Carolina      312507  Mountains with Land   \n",
       "\n",
       "              landscape                        Weather city_tier  \n",
       "0  Plain and Hilly area  wetter Summer and Cold Winter     Tier3  \n",
       "1  Plain and Hilly area  wetter Summer and Cold Winter     Tier3  \n",
       "2  Plain and Hilly area  wetter Summer and Cold Winter     Tier3  "
      ]
     },
     "execution_count": 84,
     "metadata": {},
     "output_type": "execute_result"
    }
   ],
   "source": [
    "df_final.head(3)"
   ]
  },
  {
   "cell_type": "markdown",
   "id": "d2f441dd",
   "metadata": {},
   "source": [
    "### Data Type conversion "
   ]
  },
  {
   "cell_type": "code",
   "execution_count": 85,
   "id": "7db672f3",
   "metadata": {},
   "outputs": [],
   "source": [
    "# converting host_acceptance_rate into float                                                                         \n",
    "\n",
    "df_final['host_acceptance_rate'].replace({'%': ''} , inplace =True ,regex = True)\n",
    "df_final['host_acceptance_rate'] = df_final['host_acceptance_rate'].astype(int64)\n",
    "df_final['host_acceptance_rate'] = df_final['host_acceptance_rate']/100"
   ]
  },
  {
   "cell_type": "markdown",
   "id": "223d930d",
   "metadata": {},
   "source": [
    "### EDA "
   ]
  },
  {
   "cell_type": "code",
   "execution_count": 86,
   "id": "beef6950",
   "metadata": {},
   "outputs": [
    {
     "data": {
      "image/png": "[encoded data removed]",
      "text/plain": [
       "<Figure size 432x288 with 1 Axes>"
      ]
     },
     "metadata": {
      "needs_background": "light"
     },
     "output_type": "display_data"
    }
   ],
   "source": [
    "sns.countplot(x = df_final['park_view'])\n",
    "plt.show()"
   ]
  },
  {
   "cell_type": "markdown",
   "id": "9022a3bc",
   "metadata": {},
   "source": [
    "* From this plot, it can be inferred that very few properties have a **park view** near them."
   ]
  },
  {
   "cell_type": "code",
   "execution_count": 87,
   "id": "7b269439",
   "metadata": {},
   "outputs": [
    {
     "data": {
      "image/png": "[encoded data removed]",
      "text/plain": [
       "<Figure size 432x288 with 1 Axes>"
      ]
     },
     "metadata": {
      "needs_background": "light"
     },
     "output_type": "display_data"
    }
   ],
   "source": [
    "sns.countplot(df_final['room_type'])\n",
    "plt.show()"
   ]
  },
  {
   "cell_type": "markdown",
   "id": "d21f8bca",
   "metadata": {},
   "source": [
    "* From this it can be inferred, that most of properties are either **Entire Home/apt** or **Private room**"
   ]
  },
  {
   "cell_type": "code",
   "execution_count": 88,
   "id": "55c66d51",
   "metadata": {},
   "outputs": [],
   "source": [
    "def cnt_amenties(x):\n",
    "    cnt = 0\n",
    "    x = x.strip('][').split(', ')\n",
    "    return len(x)"
   ]
  },
  {
   "cell_type": "code",
   "execution_count": 89,
   "id": "ea2109a2",
   "metadata": {},
   "outputs": [],
   "source": [
    "df_final['amenties_count'] = df_final['amenities'].apply(cnt_amenties)"
   ]
  },
  {
   "cell_type": "markdown",
   "id": "3d5af028",
   "metadata": {},
   "source": [
    "### Drop the columns, that are not needed after doing Feature Enginneering"
   ]
  },
  {
   "cell_type": "code",
   "execution_count": 90,
   "id": "15f8c1dc",
   "metadata": {},
   "outputs": [],
   "source": [
    "df_final.drop(['host_id' , 'host_since' , 'host_location' , 'bathrooms_text' , 'amenities' , 'last_scraped','state' ,'host_exp' , 'Geography' , 'landscape' , 'Weather' , 'City'], axis = 1, inplace = True)"
   ]
  },
  {
   "cell_type": "code",
   "execution_count": 91,
   "id": "9570dce5",
   "metadata": {},
   "outputs": [
    {
     "data": {
      "text/plain": [
       "(201438, 40)"
      ]
     },
     "execution_count": 91,
     "metadata": {},
     "output_type": "execute_result"
    }
   ],
   "source": [
    "df_final.shape"
   ]
  },
  {
   "cell_type": "code",
   "execution_count": 92,
   "id": "48fb1e74",
   "metadata": {},
   "outputs": [],
   "source": [
    "from sklearn.preprocessing import StandardScaler, PowerTransformer\n",
    "ss = StandardScaler()"
   ]
  },
  {
   "cell_type": "code",
   "execution_count": 93,
   "id": "08608551",
   "metadata": {},
   "outputs": [],
   "source": [
    "target = df_final['price']"
   ]
  },
  {
   "cell_type": "code",
   "execution_count": 94,
   "id": "a0435a1c",
   "metadata": {},
   "outputs": [],
   "source": [
    "num_cols = df_final.select_dtypes(include = np.number).drop('price', axis = 1)\n",
    "num_cols_scaled = pd.DataFrame(ss.fit_transform(num_cols), columns = num_cols.columns)"
   ]
  },
  {
   "cell_type": "code",
   "execution_count": 95,
   "id": "dc7057e7",
   "metadata": {},
   "outputs": [],
   "source": [
    "cat_cols = df_final.select_dtypes(exclude = np.number)"
   ]
  },
  {
   "cell_type": "code",
   "execution_count": 96,
   "id": "5ad15113",
   "metadata": {},
   "outputs": [],
   "source": [
    "cat_cols_encoded = pd.get_dummies(cat_cols, drop_first = True)"
   ]
  },
  {
   "cell_type": "code",
   "execution_count": 97,
   "id": "86d99960",
   "metadata": {},
   "outputs": [],
   "source": [
    "df_scaled = pd.concat([num_cols, cat_cols_encoded], axis = 1)"
   ]
  },
  {
   "cell_type": "markdown",
   "id": "feb07f37",
   "metadata": {},
   "source": [
    "### Distribution of Target Variable **Price**"
   ]
  },
  {
   "cell_type": "code",
   "execution_count": 98,
   "id": "8b9fc753",
   "metadata": {},
   "outputs": [
    {
     "data": {
      "image/png": "[encoded data removed]",
      "text/plain": [
       "<Figure size 432x288 with 1 Axes>"
      ]
     },
     "metadata": {
      "needs_background": "light"
     },
     "output_type": "display_data"
    }
   ],
   "source": [
    "sns.distplot(target)\n",
    "plt.show()"
   ]
  },
  {
   "cell_type": "markdown",
   "id": "78d4137f",
   "metadata": {},
   "source": [
    "* it’s clear that the distribution of price is not normally distributed throughout. Since the goal of this is to determine factors \n",
    "that affect Airbnb price, a square root transformation was done on price to improve the linearity between the dependent\n",
    "variables. This transformation would minimize the effects of these extreme values, and provide\n",
    "a more accurate model that represents the majority of the dataset."
   ]
  },
  {
   "cell_type": "code",
   "execution_count": 99,
   "id": "5557740d",
   "metadata": {},
   "outputs": [
    {
     "data": {
      "image/png": "[encoded data removed]",
      "text/plain": [
       "<Figure size 432x288 with 1 Axes>"
      ]
     },
     "metadata": {
      "needs_background": "light"
     },
     "output_type": "display_data"
    }
   ],
   "source": [
    "sns.kdeplot(np.sqrt(df_final['price']))\n",
    "plt.show()"
   ]
  },
  {
   "cell_type": "markdown",
   "id": "d4fcb68f",
   "metadata": {},
   "source": [
    "### Train, Test Split "
   ]
  },
  {
   "cell_type": "code",
   "execution_count": 100,
   "id": "76ff9000",
   "metadata": {},
   "outputs": [],
   "source": [
    "from sklearn.model_selection import train_test_split\n",
    "X = df_scaled\n",
    "y = np.sqrt(target)"
   ]
  },
  {
   "cell_type": "code",
   "execution_count": 101,
   "id": "4dba9ba4",
   "metadata": {},
   "outputs": [],
   "source": [
    "x_train,x_test, y_train,y_test = train_test_split(X,y, test_size = 0.2, random_state = 42)"
   ]
  },
  {
   "cell_type": "markdown",
   "id": "e6c1a847",
   "metadata": {},
   "source": [
    "### Base model "
   ]
  },
  {
   "cell_type": "code",
   "execution_count": 102,
   "id": "17589916",
   "metadata": {},
   "outputs": [],
   "source": [
    "import statsmodels.api  as sm "
   ]
  },
  {
   "cell_type": "code",
   "execution_count": 132,
   "id": "0e37111f",
   "metadata": {},
   "outputs": [
    {
     "data": {
      "text/html": [
       "<table class=\"simpletable\">\n",
       "<caption>OLS Regression Results</caption>\n",
       "<tr>\n",
       "  <th>Dep. Variable:</th>          <td>price</td>      <th>  R-squared:         </th>  <td>   0.434</td>  \n",
       "</tr>\n",
       "<tr>\n",
       "  <th>Model:</th>                   <td>OLS</td>       <th>  Adj. R-squared:    </th>  <td>   0.434</td>  \n",
       "</tr>\n",
       "<tr>\n",
       "  <th>Method:</th>             <td>Least Squares</td>  <th>  F-statistic:       </th>  <td>   2873.</td>  \n",
       "</tr>\n",
       "<tr>\n",
       "  <th>Date:</th>             <td>Fri, 05 Nov 2021</td> <th>  Prob (F-statistic):</th>   <td>  0.00</td>   \n",
       "</tr>\n",
       "<tr>\n",
       "  <th>Time:</th>                 <td>23:26:32</td>     <th>  Log-Likelihood:    </th> <td>-5.0896e+05</td>\n",
       "</tr>\n",
       "<tr>\n",
       "  <th>No. Observations:</th>      <td>161150</td>      <th>  AIC:               </th>  <td>1.018e+06</td> \n",
       "</tr>\n",
       "<tr>\n",
       "  <th>Df Residuals:</th>          <td>161106</td>      <th>  BIC:               </th>  <td>1.018e+06</td> \n",
       "</tr>\n",
       "<tr>\n",
       "  <th>Df Model:</th>              <td>    43</td>      <th>                     </th>      <td> </td>     \n",
       "</tr>\n",
       "<tr>\n",
       "  <th>Covariance Type:</th>      <td>nonrobust</td>    <th>                     </th>      <td> </td>     \n",
       "</tr>\n",
       "</table>\n",
       "<table class=\"simpletable\">\n",
       "<tr>\n",
       "                        <td></td>                          <th>coef</th>     <th>std err</th>      <th>t</th>      <th>P>|t|</th>  <th>[0.025</th>    <th>0.975]</th>  \n",
       "</tr>\n",
       "<tr>\n",
       "  <th>const</th>                                        <td>    1.2266</td> <td>    0.329</td> <td>    3.727</td> <td> 0.000</td> <td>    0.582</td> <td>    1.872</td>\n",
       "</tr>\n",
       "<tr>\n",
       "  <th>host_acceptance_rate</th>                         <td>   -0.9971</td> <td>    0.072</td> <td>  -13.846</td> <td> 0.000</td> <td>   -1.138</td> <td>   -0.856</td>\n",
       "</tr>\n",
       "<tr>\n",
       "  <th>latitude</th>                                     <td>   -0.0477</td> <td>    0.003</td> <td>  -15.569</td> <td> 0.000</td> <td>   -0.054</td> <td>   -0.042</td>\n",
       "</tr>\n",
       "<tr>\n",
       "  <th>longitude</th>                                    <td>   -0.0263</td> <td>    0.001</td> <td>  -35.525</td> <td> 0.000</td> <td>   -0.028</td> <td>   -0.025</td>\n",
       "</tr>\n",
       "<tr>\n",
       "  <th>accommodates</th>                                 <td>    0.7574</td> <td>    0.011</td> <td>   68.537</td> <td> 0.000</td> <td>    0.736</td> <td>    0.779</td>\n",
       "</tr>\n",
       "<tr>\n",
       "  <th>bedrooms</th>                                     <td>    2.4211</td> <td>    0.026</td> <td>   93.444</td> <td> 0.000</td> <td>    2.370</td> <td>    2.472</td>\n",
       "</tr>\n",
       "<tr>\n",
       "  <th>beds</th>                                         <td>   -0.1371</td> <td>    0.014</td> <td>   -9.967</td> <td> 0.000</td> <td>   -0.164</td> <td>   -0.110</td>\n",
       "</tr>\n",
       "<tr>\n",
       "  <th>minimum_nights</th>                               <td>   -0.0130</td> <td>    0.001</td> <td>  -23.295</td> <td> 0.000</td> <td>   -0.014</td> <td>   -0.012</td>\n",
       "</tr>\n",
       "<tr>\n",
       "  <th>availability_30</th>                              <td>    0.0913</td> <td>    0.004</td> <td>   23.590</td> <td> 0.000</td> <td>    0.084</td> <td>    0.099</td>\n",
       "</tr>\n",
       "<tr>\n",
       "  <th>availability_60</th>                              <td>    0.0028</td> <td>    0.004</td> <td>    0.709</td> <td> 0.478</td> <td>   -0.005</td> <td>    0.010</td>\n",
       "</tr>\n",
       "<tr>\n",
       "  <th>availability_90</th>                              <td>   -0.0052</td> <td>    0.002</td> <td>   -2.639</td> <td> 0.008</td> <td>   -0.009</td> <td>   -0.001</td>\n",
       "</tr>\n",
       "<tr>\n",
       "  <th>availability_365</th>                             <td>   -0.0004</td> <td>    0.000</td> <td>   -2.991</td> <td> 0.003</td> <td>   -0.001</td> <td>   -0.000</td>\n",
       "</tr>\n",
       "<tr>\n",
       "  <th>number_of_reviews_ltm</th>                        <td>   -0.0271</td> <td>    0.001</td> <td>  -26.330</td> <td> 0.000</td> <td>   -0.029</td> <td>   -0.025</td>\n",
       "</tr>\n",
       "<tr>\n",
       "  <th>review_scores_rating</th>                         <td>    0.2198</td> <td>    0.032</td> <td>    6.808</td> <td> 0.000</td> <td>    0.157</td> <td>    0.283</td>\n",
       "</tr>\n",
       "<tr>\n",
       "  <th>review_scores_accuracy</th>                       <td>    0.3878</td> <td>    0.074</td> <td>    5.273</td> <td> 0.000</td> <td>    0.244</td> <td>    0.532</td>\n",
       "</tr>\n",
       "<tr>\n",
       "  <th>review_scores_cleanliness</th>                    <td>    1.0980</td> <td>    0.055</td> <td>   20.074</td> <td> 0.000</td> <td>    0.991</td> <td>    1.205</td>\n",
       "</tr>\n",
       "<tr>\n",
       "  <th>review_scores_checkin</th>                        <td>   -0.8645</td> <td>    0.069</td> <td>  -12.468</td> <td> 0.000</td> <td>   -1.000</td> <td>   -0.729</td>\n",
       "</tr>\n",
       "<tr>\n",
       "  <th>review_scores_communication</th>                  <td>    0.0203</td> <td>    0.072</td> <td>    0.284</td> <td> 0.776</td> <td>   -0.120</td> <td>    0.161</td>\n",
       "</tr>\n",
       "<tr>\n",
       "  <th>review_scores_location</th>                       <td>    2.0674</td> <td>    0.060</td> <td>   34.368</td> <td> 0.000</td> <td>    1.949</td> <td>    2.185</td>\n",
       "</tr>\n",
       "<tr>\n",
       "  <th>review_scores_value</th>                          <td>   -1.6295</td> <td>    0.066</td> <td>  -24.704</td> <td> 0.000</td> <td>   -1.759</td> <td>   -1.500</td>\n",
       "</tr>\n",
       "<tr>\n",
       "  <th>calculated_host_listings_count</th>               <td>    0.0198</td> <td>    0.002</td> <td>   10.920</td> <td> 0.000</td> <td>    0.016</td> <td>    0.023</td>\n",
       "</tr>\n",
       "<tr>\n",
       "  <th>reviews_per_month</th>                            <td>    0.0028</td> <td>    0.003</td> <td>    0.811</td> <td> 0.417</td> <td>   -0.004</td> <td>    0.010</td>\n",
       "</tr>\n",
       "<tr>\n",
       "  <th>calculated_host_listings_count_private_rooms</th> <td>   -0.0258</td> <td>    0.002</td> <td>  -12.320</td> <td> 0.000</td> <td>   -0.030</td> <td>   -0.022</td>\n",
       "</tr>\n",
       "<tr>\n",
       "  <th>calculated_host_listings_count_shared_rooms</th>  <td>   -0.1054</td> <td>    0.007</td> <td>  -14.434</td> <td> 0.000</td> <td>   -0.120</td> <td>   -0.091</td>\n",
       "</tr>\n",
       "<tr>\n",
       "  <th>calculated_host_listings_count_entire_homes</th>  <td>   -0.0103</td> <td>    0.002</td> <td>   -5.611</td> <td> 0.000</td> <td>   -0.014</td> <td>   -0.007</td>\n",
       "</tr>\n",
       "<tr>\n",
       "  <th>diff_in_month</th>                                <td>    0.0046</td> <td>    0.000</td> <td>    9.474</td> <td> 0.000</td> <td>    0.004</td> <td>    0.005</td>\n",
       "</tr>\n",
       "<tr>\n",
       "  <th>population</th>                                   <td>  6.74e-08</td> <td> 2.74e-09</td> <td>   24.596</td> <td> 0.000</td> <td>  6.2e-08</td> <td> 7.28e-08</td>\n",
       "</tr>\n",
       "<tr>\n",
       "  <th>amenties_count</th>                               <td>   -0.0100</td> <td>    0.001</td> <td>   -7.428</td> <td> 0.000</td> <td>   -0.013</td> <td>   -0.007</td>\n",
       "</tr>\n",
       "<tr>\n",
       "  <th>host_response_time_within a day</th>              <td>    0.0068</td> <td>    0.094</td> <td>    0.072</td> <td> 0.943</td> <td>   -0.178</td> <td>    0.192</td>\n",
       "</tr>\n",
       "<tr>\n",
       "  <th>host_response_time_within a few hours</th>        <td>    0.1414</td> <td>    0.091</td> <td>    1.561</td> <td> 0.119</td> <td>   -0.036</td> <td>    0.319</td>\n",
       "</tr>\n",
       "<tr>\n",
       "  <th>host_response_time_within an hour</th>            <td>    0.1572</td> <td>    0.087</td> <td>    1.817</td> <td> 0.069</td> <td>   -0.012</td> <td>    0.327</td>\n",
       "</tr>\n",
       "<tr>\n",
       "  <th>host_is_superhost_t</th>                          <td>   -0.0231</td> <td>    0.034</td> <td>   -0.674</td> <td> 0.500</td> <td>   -0.090</td> <td>    0.044</td>\n",
       "</tr>\n",
       "<tr>\n",
       "  <th>host_identity_verified_t</th>                     <td>    0.0774</td> <td>    0.037</td> <td>    2.079</td> <td> 0.038</td> <td>    0.004</td> <td>    0.150</td>\n",
       "</tr>\n",
       "<tr>\n",
       "  <th>room_type_Hotel room</th>                         <td>    2.1056</td> <td>    0.195</td> <td>   10.818</td> <td> 0.000</td> <td>    1.724</td> <td>    2.487</td>\n",
       "</tr>\n",
       "<tr>\n",
       "  <th>room_type_Private room</th>                       <td>   -1.6664</td> <td>    0.038</td> <td>  -43.388</td> <td> 0.000</td> <td>   -1.742</td> <td>   -1.591</td>\n",
       "</tr>\n",
       "<tr>\n",
       "  <th>room_type_Shared room</th>                        <td>   -3.4671</td> <td>    0.145</td> <td>  -23.889</td> <td> 0.000</td> <td>   -3.752</td> <td>   -3.183</td>\n",
       "</tr>\n",
       "<tr>\n",
       "  <th>has_availability_t</th>                           <td>   -1.4745</td> <td>    0.105</td> <td>  -14.049</td> <td> 0.000</td> <td>   -1.680</td> <td>   -1.269</td>\n",
       "</tr>\n",
       "<tr>\n",
       "  <th>instant_bookable_t</th>                           <td>    0.4329</td> <td>    0.033</td> <td>   13.071</td> <td> 0.000</td> <td>    0.368</td> <td>    0.498</td>\n",
       "</tr>\n",
       "<tr>\n",
       "  <th>park_view_t</th>                                  <td>   -0.8332</td> <td>    0.066</td> <td>  -12.550</td> <td> 0.000</td> <td>   -0.963</td> <td>   -0.703</td>\n",
       "</tr>\n",
       "<tr>\n",
       "  <th>water_view_t</th>                                 <td>    0.7926</td> <td>    0.056</td> <td>   14.189</td> <td> 0.000</td> <td>    0.683</td> <td>    0.902</td>\n",
       "</tr>\n",
       "<tr>\n",
       "  <th>hill_view_t</th>                                  <td>    1.1112</td> <td>    0.070</td> <td>   15.775</td> <td> 0.000</td> <td>    0.973</td> <td>    1.249</td>\n",
       "</tr>\n",
       "<tr>\n",
       "  <th>city_tier_Tier2</th>                              <td>   -0.7025</td> <td>    0.122</td> <td>   -5.756</td> <td> 0.000</td> <td>   -0.942</td> <td>   -0.463</td>\n",
       "</tr>\n",
       "<tr>\n",
       "  <th>city_tier_Tier3</th>                              <td>   -0.7396</td> <td>    0.091</td> <td>   -8.170</td> <td> 0.000</td> <td>   -0.917</td> <td>   -0.562</td>\n",
       "</tr>\n",
       "<tr>\n",
       "  <th>city_tier_Tier4</th>                              <td>    0.1072</td> <td>    0.072</td> <td>    1.482</td> <td> 0.138</td> <td>   -0.035</td> <td>    0.249</td>\n",
       "</tr>\n",
       "</table>\n",
       "<table class=\"simpletable\">\n",
       "<tr>\n",
       "  <th>Omnibus:</th>       <td>196214.256</td> <th>  Durbin-Watson:     </th>   <td>   2.010</td>  \n",
       "</tr>\n",
       "<tr>\n",
       "  <th>Prob(Omnibus):</th>   <td> 0.000</td>   <th>  Jarque-Bera (JB):  </th> <td>65220285.162</td>\n",
       "</tr>\n",
       "<tr>\n",
       "  <th>Skew:</th>            <td> 6.253</td>   <th>  Prob(JB):          </th>   <td>    0.00</td>  \n",
       "</tr>\n",
       "<tr>\n",
       "  <th>Kurtosis:</th>        <td>100.759</td>  <th>  Cond. No.          </th>   <td>2.31e+08</td>  \n",
       "</tr>\n",
       "</table><br/><br/>Notes:<br/>[1] Standard Errors assume that the covariance matrix of the errors is correctly specified.<br/>[2] The condition number is large, 2.31e+08. This might indicate that there are<br/>strong multicollinearity or other numerical problems."
      ],
      "text/plain": [
       "<class 'statsmodels.iolib.summary.Summary'>\n",
       "\"\"\"\n",
       "                            OLS Regression Results                            \n",
       "==============================================================================\n",
       "Dep. Variable:                  price   R-squared:                       0.434\n",
       "Model:                            OLS   Adj. R-squared:                  0.434\n",
       "Method:                 Least Squares   F-statistic:                     2873.\n",
       "Date:                Fri, 05 Nov 2021   Prob (F-statistic):               0.00\n",
       "Time:                        23:26:32   Log-Likelihood:            -5.0896e+05\n",
       "No. Observations:              161150   AIC:                         1.018e+06\n",
       "Df Residuals:                  161106   BIC:                         1.018e+06\n",
       "Df Model:                          43                                         \n",
       "Covariance Type:            nonrobust                                         \n",
       "================================================================================================================\n",
       "                                                   coef    std err          t      P>|t|      [0.025      0.975]\n",
       "----------------------------------------------------------------------------------------------------------------\n",
       "const                                            1.2266      0.329      3.727      0.000       0.582       1.872\n",
       "host_acceptance_rate                            -0.9971      0.072    -13.846      0.000      -1.138      -0.856\n",
       "latitude                                        -0.0477      0.003    -15.569      0.000      -0.054      -0.042\n",
       "longitude                                       -0.0263      0.001    -35.525      0.000      -0.028      -0.025\n",
       "accommodates                                     0.7574      0.011     68.537      0.000       0.736       0.779\n",
       "bedrooms                                         2.4211      0.026     93.444      0.000       2.370       2.472\n",
       "beds                                            -0.1371      0.014     -9.967      0.000      -0.164      -0.110\n",
       "minimum_nights                                  -0.0130      0.001    -23.295      0.000      -0.014      -0.012\n",
       "availability_30                                  0.0913      0.004     23.590      0.000       0.084       0.099\n",
       "availability_60                                  0.0028      0.004      0.709      0.478      -0.005       0.010\n",
       "availability_90                                 -0.0052      0.002     -2.639      0.008      -0.009      -0.001\n",
       "availability_365                                -0.0004      0.000     -2.991      0.003      -0.001      -0.000\n",
       "number_of_reviews_ltm                           -0.0271      0.001    -26.330      0.000      -0.029      -0.025\n",
       "review_scores_rating                             0.2198      0.032      6.808      0.000       0.157       0.283\n",
       "review_scores_accuracy                           0.3878      0.074      5.273      0.000       0.244       0.532\n",
       "review_scores_cleanliness                        1.0980      0.055     20.074      0.000       0.991       1.205\n",
       "review_scores_checkin                           -0.8645      0.069    -12.468      0.000      -1.000      -0.729\n",
       "review_scores_communication                      0.0203      0.072      0.284      0.776      -0.120       0.161\n",
       "review_scores_location                           2.0674      0.060     34.368      0.000       1.949       2.185\n",
       "review_scores_value                             -1.6295      0.066    -24.704      0.000      -1.759      -1.500\n",
       "calculated_host_listings_count                   0.0198      0.002     10.920      0.000       0.016       0.023\n",
       "reviews_per_month                                0.0028      0.003      0.811      0.417      -0.004       0.010\n",
       "calculated_host_listings_count_private_rooms    -0.0258      0.002    -12.320      0.000      -0.030      -0.022\n",
       "calculated_host_listings_count_shared_rooms     -0.1054      0.007    -14.434      0.000      -0.120      -0.091\n",
       "calculated_host_listings_count_entire_homes     -0.0103      0.002     -5.611      0.000      -0.014      -0.007\n",
       "diff_in_month                                    0.0046      0.000      9.474      0.000       0.004       0.005\n",
       "population                                     6.74e-08   2.74e-09     24.596      0.000     6.2e-08    7.28e-08\n",
       "amenties_count                                  -0.0100      0.001     -7.428      0.000      -0.013      -0.007\n",
       "host_response_time_within a day                  0.0068      0.094      0.072      0.943      -0.178       0.192\n",
       "host_response_time_within a few hours            0.1414      0.091      1.561      0.119      -0.036       0.319\n",
       "host_response_time_within an hour                0.1572      0.087      1.817      0.069      -0.012       0.327\n",
       "host_is_superhost_t                             -0.0231      0.034     -0.674      0.500      -0.090       0.044\n",
       "host_identity_verified_t                         0.0774      0.037      2.079      0.038       0.004       0.150\n",
       "room_type_Hotel room                             2.1056      0.195     10.818      0.000       1.724       2.487\n",
       "room_type_Private room                          -1.6664      0.038    -43.388      0.000      -1.742      -1.591\n",
       "room_type_Shared room                           -3.4671      0.145    -23.889      0.000      -3.752      -3.183\n",
       "has_availability_t                              -1.4745      0.105    -14.049      0.000      -1.680      -1.269\n",
       "instant_bookable_t                               0.4329      0.033     13.071      0.000       0.368       0.498\n",
       "park_view_t                                     -0.8332      0.066    -12.550      0.000      -0.963      -0.703\n",
       "water_view_t                                     0.7926      0.056     14.189      0.000       0.683       0.902\n",
       "hill_view_t                                      1.1112      0.070     15.775      0.000       0.973       1.249\n",
       "city_tier_Tier2                                 -0.7025      0.122     -5.756      0.000      -0.942      -0.463\n",
       "city_tier_Tier3                                 -0.7396      0.091     -8.170      0.000      -0.917      -0.562\n",
       "city_tier_Tier4                                  0.1072      0.072      1.482      0.138      -0.035       0.249\n",
       "==============================================================================\n",
       "Omnibus:                   196214.256   Durbin-Watson:                   2.010\n",
       "Prob(Omnibus):                  0.000   Jarque-Bera (JB):         65220285.162\n",
       "Skew:                           6.253   Prob(JB):                         0.00\n",
       "Kurtosis:                     100.759   Cond. No.                     2.31e+08\n",
       "==============================================================================\n",
       "\n",
       "Notes:\n",
       "[1] Standard Errors assume that the covariance matrix of the errors is correctly specified.\n",
       "[2] The condition number is large, 2.31e+08. This might indicate that there are\n",
       "strong multicollinearity or other numerical problems.\n",
       "\"\"\""
      ]
     },
     "execution_count": 132,
     "metadata": {},
     "output_type": "execute_result"
    }
   ],
   "source": [
    "X = x_train\n",
    "x = sm.add_constant(X)\n",
    "y = y_train\n",
    "model = sm.OLS(y, x).fit()\n",
    "model.summary()"
   ]
  },
  {
   "cell_type": "markdown",
   "id": "eea8492f",
   "metadata": {},
   "source": [
    "** Observations ** \n",
    "\n",
    "* Very high multi-collinearity in the data.\n"
   ]
  },
  {
   "cell_type": "markdown",
   "id": "fdd5063e",
   "metadata": {},
   "source": [
    "### VIF "
   ]
  },
  {
   "cell_type": "code",
   "execution_count": 105,
   "id": "d0f342c3",
   "metadata": {},
   "outputs": [],
   "source": [
    "vif_data = df_scaled\n",
    "\n",
    "num_cols = vif_data.select_dtypes(include=np.number) # Predictor Variables..\n",
    "\n",
    "mylist = [] # Store all the vif values\n",
    "\n",
    "for i in range(num_cols.shape[1]):\n",
    "    mylist.append(variance_inflation_factor(num_cols.values, i))"
   ]
  },
  {
   "cell_type": "code",
   "execution_count": 106,
   "id": "f720a3a8",
   "metadata": {},
   "outputs": [
    {
     "data": {
      "text/html": [
       "<div>\n",
       "<style scoped>\n",
       "    .dataframe tbody tr th:only-of-type {\n",
       "        vertical-align: middle;\n",
       "    }\n",
       "\n",
       "    .dataframe tbody tr th {\n",
       "        vertical-align: top;\n",
       "    }\n",
       "\n",
       "    .dataframe thead th {\n",
       "        text-align: right;\n",
       "    }\n",
       "</style>\n",
       "<table border=\"1\" class=\"dataframe\">\n",
       "  <thead>\n",
       "    <tr style=\"text-align: right;\">\n",
       "      <th></th>\n",
       "      <th>Labels:</th>\n",
       "      <th>VIF</th>\n",
       "    </tr>\n",
       "  </thead>\n",
       "  <tbody>\n",
       "    <tr>\n",
       "      <th>2</th>\n",
       "      <td>host_total_listings_count</td>\n",
       "      <td>322101382.51069</td>\n",
       "    </tr>\n",
       "    <tr>\n",
       "      <th>1</th>\n",
       "      <td>host_listings_count</td>\n",
       "      <td>322101186.69655</td>\n",
       "    </tr>\n",
       "    <tr>\n",
       "      <th>15</th>\n",
       "      <td>review_scores_accuracy</td>\n",
       "      <td>616.85389</td>\n",
       "    </tr>\n",
       "    <tr>\n",
       "      <th>18</th>\n",
       "      <td>review_scores_communication</td>\n",
       "      <td>593.92744</td>\n",
       "    </tr>\n",
       "    <tr>\n",
       "      <th>17</th>\n",
       "      <td>review_scores_checkin</td>\n",
       "      <td>546.60996</td>\n",
       "    </tr>\n",
       "    <tr>\n",
       "      <th>20</th>\n",
       "      <td>review_scores_value</td>\n",
       "      <td>483.12404</td>\n",
       "    </tr>\n",
       "    <tr>\n",
       "      <th>19</th>\n",
       "      <td>review_scores_location</td>\n",
       "      <td>374.64475</td>\n",
       "    </tr>\n",
       "    <tr>\n",
       "      <th>16</th>\n",
       "      <td>review_scores_cleanliness</td>\n",
       "      <td>331.42366</td>\n",
       "    </tr>\n",
       "    <tr>\n",
       "      <th>14</th>\n",
       "      <td>review_scores_rating</td>\n",
       "      <td>115.73292</td>\n",
       "    </tr>\n",
       "    <tr>\n",
       "      <th>10</th>\n",
       "      <td>availability_60</td>\n",
       "      <td>72.18262</td>\n",
       "    </tr>\n",
       "    <tr>\n",
       "      <th>3</th>\n",
       "      <td>latitude</td>\n",
       "      <td>50.28422</td>\n",
       "    </tr>\n",
       "    <tr>\n",
       "      <th>11</th>\n",
       "      <td>availability_90</td>\n",
       "      <td>49.32803</td>\n",
       "    </tr>\n",
       "    <tr>\n",
       "      <th>37</th>\n",
       "      <td>has_availability_t</td>\n",
       "      <td>49.28625</td>\n",
       "    </tr>\n",
       "    <tr>\n",
       "      <th>21</th>\n",
       "      <td>calculated_host_listings_count</td>\n",
       "      <td>47.84642</td>\n",
       "    </tr>\n",
       "    <tr>\n",
       "      <th>25</th>\n",
       "      <td>calculated_host_listings_count_entire_homes</td>\n",
       "      <td>42.02920</td>\n",
       "    </tr>\n",
       "    <tr>\n",
       "      <th>31</th>\n",
       "      <td>host_response_time_within an hour</td>\n",
       "      <td>27.60828</td>\n",
       "    </tr>\n",
       "    <tr>\n",
       "      <th>4</th>\n",
       "      <td>longitude</td>\n",
       "      <td>26.64872</td>\n",
       "    </tr>\n",
       "    <tr>\n",
       "      <th>0</th>\n",
       "      <td>host_acceptance_rate</td>\n",
       "      <td>20.83145</td>\n",
       "    </tr>\n",
       "    <tr>\n",
       "      <th>5</th>\n",
       "      <td>accommodates</td>\n",
       "      <td>14.18961</td>\n",
       "    </tr>\n",
       "    <tr>\n",
       "      <th>9</th>\n",
       "      <td>availability_30</td>\n",
       "      <td>13.36129</td>\n",
       "    </tr>\n",
       "    <tr>\n",
       "      <th>6</th>\n",
       "      <td>bedrooms</td>\n",
       "      <td>12.96249</td>\n",
       "    </tr>\n",
       "    <tr>\n",
       "      <th>28</th>\n",
       "      <td>amenties_count</td>\n",
       "      <td>8.71778</td>\n",
       "    </tr>\n",
       "    <tr>\n",
       "      <th>7</th>\n",
       "      <td>beds</td>\n",
       "      <td>7.84540</td>\n",
       "    </tr>\n",
       "    <tr>\n",
       "      <th>26</th>\n",
       "      <td>diff_in_month</td>\n",
       "      <td>5.70587</td>\n",
       "    </tr>\n",
       "    <tr>\n",
       "      <th>33</th>\n",
       "      <td>host_identity_verified_t</td>\n",
       "      <td>5.61012</td>\n",
       "    </tr>\n",
       "    <tr>\n",
       "      <th>23</th>\n",
       "      <td>calculated_host_listings_count_private_rooms</td>\n",
       "      <td>5.16479</td>\n",
       "    </tr>\n",
       "    <tr>\n",
       "      <th>30</th>\n",
       "      <td>host_response_time_within a few hours</td>\n",
       "      <td>5.04205</td>\n",
       "    </tr>\n",
       "    <tr>\n",
       "      <th>12</th>\n",
       "      <td>availability_365</td>\n",
       "      <td>4.64385</td>\n",
       "    </tr>\n",
       "    <tr>\n",
       "      <th>27</th>\n",
       "      <td>population</td>\n",
       "      <td>3.58969</td>\n",
       "    </tr>\n",
       "    <tr>\n",
       "      <th>29</th>\n",
       "      <td>host_response_time_within a day</td>\n",
       "      <td>3.31120</td>\n",
       "    </tr>\n",
       "    <tr>\n",
       "      <th>38</th>\n",
       "      <td>instant_bookable_t</td>\n",
       "      <td>2.24759</td>\n",
       "    </tr>\n",
       "    <tr>\n",
       "      <th>32</th>\n",
       "      <td>host_is_superhost_t</td>\n",
       "      <td>1.92748</td>\n",
       "    </tr>\n",
       "    <tr>\n",
       "      <th>13</th>\n",
       "      <td>number_of_reviews_ltm</td>\n",
       "      <td>1.90449</td>\n",
       "    </tr>\n",
       "    <tr>\n",
       "      <th>35</th>\n",
       "      <td>room_type_Private room</td>\n",
       "      <td>1.89482</td>\n",
       "    </tr>\n",
       "    <tr>\n",
       "      <th>22</th>\n",
       "      <td>reviews_per_month</td>\n",
       "      <td>1.66145</td>\n",
       "    </tr>\n",
       "    <tr>\n",
       "      <th>24</th>\n",
       "      <td>calculated_host_listings_count_shared_rooms</td>\n",
       "      <td>1.50589</td>\n",
       "    </tr>\n",
       "    <tr>\n",
       "      <th>36</th>\n",
       "      <td>room_type_Shared room</td>\n",
       "      <td>1.47432</td>\n",
       "    </tr>\n",
       "    <tr>\n",
       "      <th>8</th>\n",
       "      <td>minimum_nights</td>\n",
       "      <td>1.41860</td>\n",
       "    </tr>\n",
       "    <tr>\n",
       "      <th>34</th>\n",
       "      <td>room_type_Hotel room</td>\n",
       "      <td>1.30005</td>\n",
       "    </tr>\n",
       "    <tr>\n",
       "      <th>44</th>\n",
       "      <td>city_tier_Tier4</td>\n",
       "      <td>1.26135</td>\n",
       "    </tr>\n",
       "    <tr>\n",
       "      <th>42</th>\n",
       "      <td>city_tier_Tier2</td>\n",
       "      <td>1.21040</td>\n",
       "    </tr>\n",
       "    <tr>\n",
       "      <th>43</th>\n",
       "      <td>city_tier_Tier3</td>\n",
       "      <td>1.11946</td>\n",
       "    </tr>\n",
       "    <tr>\n",
       "      <th>40</th>\n",
       "      <td>water_view_t</td>\n",
       "      <td>1.11121</td>\n",
       "    </tr>\n",
       "    <tr>\n",
       "      <th>39</th>\n",
       "      <td>park_view_t</td>\n",
       "      <td>1.08390</td>\n",
       "    </tr>\n",
       "    <tr>\n",
       "      <th>41</th>\n",
       "      <td>hill_view_t</td>\n",
       "      <td>1.06944</td>\n",
       "    </tr>\n",
       "  </tbody>\n",
       "</table>\n",
       "</div>"
      ],
      "text/plain": [
       "                                         Labels:             VIF\n",
       "2                      host_total_listings_count 322101382.51069\n",
       "1                            host_listings_count 322101186.69655\n",
       "15                        review_scores_accuracy       616.85389\n",
       "18                   review_scores_communication       593.92744\n",
       "17                         review_scores_checkin       546.60996\n",
       "20                           review_scores_value       483.12404\n",
       "19                        review_scores_location       374.64475\n",
       "16                     review_scores_cleanliness       331.42366\n",
       "14                          review_scores_rating       115.73292\n",
       "10                               availability_60        72.18262\n",
       "3                                       latitude        50.28422\n",
       "11                               availability_90        49.32803\n",
       "37                            has_availability_t        49.28625\n",
       "21                calculated_host_listings_count        47.84642\n",
       "25   calculated_host_listings_count_entire_homes        42.02920\n",
       "31             host_response_time_within an hour        27.60828\n",
       "4                                      longitude        26.64872\n",
       "0                           host_acceptance_rate        20.83145\n",
       "5                                   accommodates        14.18961\n",
       "9                                availability_30        13.36129\n",
       "6                                       bedrooms        12.96249\n",
       "28                                amenties_count         8.71778\n",
       "7                                           beds         7.84540\n",
       "26                                 diff_in_month         5.70587\n",
       "33                      host_identity_verified_t         5.61012\n",
       "23  calculated_host_listings_count_private_rooms         5.16479\n",
       "30         host_response_time_within a few hours         5.04205\n",
       "12                              availability_365         4.64385\n",
       "27                                    population         3.58969\n",
       "29               host_response_time_within a day         3.31120\n",
       "38                            instant_bookable_t         2.24759\n",
       "32                           host_is_superhost_t         1.92748\n",
       "13                         number_of_reviews_ltm         1.90449\n",
       "35                        room_type_Private room         1.89482\n",
       "22                             reviews_per_month         1.66145\n",
       "24   calculated_host_listings_count_shared_rooms         1.50589\n",
       "36                         room_type_Shared room         1.47432\n",
       "8                                 minimum_nights         1.41860\n",
       "34                          room_type_Hotel room         1.30005\n",
       "44                               city_tier_Tier4         1.26135\n",
       "42                               city_tier_Tier2         1.21040\n",
       "43                               city_tier_Tier3         1.11946\n",
       "40                                  water_view_t         1.11121\n",
       "39                                   park_view_t         1.08390\n",
       "41                                   hill_view_t         1.06944"
      ]
     },
     "execution_count": 106,
     "metadata": {},
     "output_type": "execute_result"
    }
   ],
   "source": [
    "pd.DataFrame({\"Labels:\": num_cols.columns, \"VIF\": mylist}).sort_values(by = 'VIF', ascending = False) "
   ]
  },
  {
   "cell_type": "code",
   "execution_count": 107,
   "id": "3143a044",
   "metadata": {},
   "outputs": [],
   "source": [
    "## drop some columns that have high vif values \n",
    "df_scaled.drop(['host_total_listings_count','host_listings_count'], axis = 1, inplace = True)"
   ]
  },
  {
   "cell_type": "code",
   "execution_count": 108,
   "id": "f257f82e",
   "metadata": {},
   "outputs": [],
   "source": [
    "from sklearn.model_selection import train_test_split\n",
    "X = df_scaled\n",
    "y = np.sqrt(target)\n",
    "x_train,x_test, y_train,y_test = train_test_split(X,y, test_size = 0.2, random_state = 42)"
   ]
  },
  {
   "cell_type": "code",
   "execution_count": 109,
   "id": "31226843",
   "metadata": {},
   "outputs": [
    {
     "name": "stdout",
     "output_type": "stream",
     "text": [
      "R2 Score: 0.44641320311061694\n",
      "Root Mean Square Error: 5.555632738531892\n"
     ]
    }
   ],
   "source": [
    "lr = LinearRegression()\n",
    "model_bs = lr.fit(x_train, y_train)\n",
    "y_pred_bs = model_bs.predict(x_test)\n",
    "print('Test R2 Score:', r2_score(y_test, y_pred_bs))\n",
    "print(' Test Root Mean Square Error:', np.sqrt(mean_squared_error(y_test, y_pred_bs)))"
   ]
  },
  {
   "cell_type": "code",
   "execution_count": 110,
   "id": "2c34ac49",
   "metadata": {},
   "outputs": [
    {
     "name": "stdout",
     "output_type": "stream",
     "text": [
      "R2 Score: 0.6422558056511244\n",
      "Root Mean Square Error: 4.466084789214054\n"
     ]
    }
   ],
   "source": [
    "rf = RandomForestRegressor()\n",
    "model_rf = rf.fit(x_train, y_train)\n",
    "y_pred_rf = model_rf.predict(x_test)\n",
    "print('Test R2 Score:', r2_score(y_test, y_pred_rf))\n",
    "print('Test Root Mean Square Error:', np.sqrt(mean_squared_error(y_test, y_pred_rf)))"
   ]
  },
  {
   "cell_type": "code",
   "execution_count": 147,
   "id": "cef3500b",
   "metadata": {},
   "outputs": [
    {
     "name": "stdout",
     "output_type": "stream",
     "text": [
      "Test R2 Score: 65.0 2\n",
      "Test Root Mean Square Error: 4.422132105332224\n"
     ]
    }
   ],
   "source": [
    "xg = XGBRegressor()\n",
    "model_xg = xg.fit(x_train, y_train)\n",
    "y_pred_xg = model_xg.predict(x_test)\n",
    "print('Test R2 Score:',np.round(r2_score(y_test, y_pred_xg)*100),2)\n",
    "print('Test Root Mean Square Error:', np.sqrt(mean_squared_error(y_test, y_pred_xg)))"
   ]
  },
  {
   "cell_type": "markdown",
   "id": "4d5c0061",
   "metadata": {},
   "source": [
    "### Feature Importance "
   ]
  },
  {
   "cell_type": "code",
   "execution_count": 119,
   "id": "c1bd51d9",
   "metadata": {},
   "outputs": [],
   "source": [
    "importances = pd.DataFrame(model_xg.feature_importances_, index = x_train.columns, columns = ['Feature Importance']).sort_values(by = 'Feature Importance', ascending = False)"
   ]
  },
  {
   "cell_type": "code",
   "execution_count": 129,
   "id": "417b2bec",
   "metadata": {},
   "outputs": [
    {
     "data": {
      "image/png": "[encoded data removed]",
      "text/plain": [
       "<Figure size 432x288 with 1 Axes>"
      ]
     },
     "metadata": {
      "needs_background": "light"
     },
     "output_type": "display_data"
    }
   ],
   "source": [
    "importances[importances['Feature Importance'] >= 0.050].plot(kind = 'bar')\n",
    "plt.show()"
   ]
  },
  {
   "cell_type": "markdown",
   "id": "0911ef49",
   "metadata": {},
   "source": [
    "* Four most important features according to XGBoostModel are **room_type_private room**, **accomodates**, **bedrooms**, **room_type_shared room** "
   ]
  },
  {
   "cell_type": "markdown",
   "id": "f24fd7ff",
   "metadata": {},
   "source": [
    "### Inference "
   ]
  },
  {
   "cell_type": "markdown",
   "id": "5b8f6690",
   "metadata": {},
   "source": [
    "* The least Root Mean Square is achieved with XGBoostRegressor.\n",
    "\n",
    "\n",
    "\n",
    "* This model can be used by hosts, to find the appropriate pricing of their properties, according to the different landscapes, weather, and other factors.\n",
    "\n",
    "\n",
    "\n",
    "* This model can help the hosts to strategically price their stay.\n"
   ]
  },
  {
   "cell_type": "markdown",
   "id": "38c78b71",
   "metadata": {},
   "source": [
    "### Limitations of this Model "
   ]
  },
  {
   "cell_type": "markdown",
   "id": "81333eae",
   "metadata": {},
   "source": [
    "* Some possible improvements to this research could be processing the data from every month of the year or broadening the scope of the study to other cities.\n",
    "\n",
    "\n",
    "\n",
    "* New listings are often added so with this time series data, each listing can be followed and monthly progress could be calculated.\n"
   ]
  }
 ],
 "metadata": {
  "kernelspec": {
   "display_name": "Python 3",
   "language": "python",
   "name": "python3"
  },
  "language_info": {
   "codemirror_mode": {
    "name": "ipython",
    "version": 3
   },
   "file_extension": ".py",
   "mimetype": "text/x-python",
   "name": "python",
   "nbconvert_exporter": "python",
   "pygments_lexer": "ipython3",
   "version": "3.8.8"
  }
 },
 "nbformat": 4,
 "nbformat_minor": 5
}
